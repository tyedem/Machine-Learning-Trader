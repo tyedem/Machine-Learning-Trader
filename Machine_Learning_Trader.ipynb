{
 "cells": [
  {
   "cell_type": "markdown",
   "metadata": {},
   "source": [
    "# Machine Learning Trading Bot - Template"
   ]
  },
  {
   "cell_type": "markdown",
   "metadata": {},
   "source": [
    "Template assembled by referring to Algo trading activities and optional homework assignment"
   ]
  },
  {
   "cell_type": "code",
   "execution_count": null,
   "metadata": {},
   "outputs": [],
   "source": [
    "# Import libraries\n",
    "import pandas as pd\n",
    "import numpy as np\n",
    "from pathlib import Path\n",
    "import hvplot.pandas\n",
    "import matplotlib.pyplot as plt\n",
    "from sklearn import svm\n",
    "from sklearn.preprocessing import StandardScaler\n",
    "from pandas.tseries.offsets import DateOffset\n",
    "from sklearn.metrics import classification_report\n",
    "from finta import TA"
   ]
  },
  {
   "cell_type": "markdown",
   "metadata": {},
   "source": [
    "# Import CSV file and create pandas DataFrame"
   ]
  },
  {
   "cell_type": "code",
   "execution_count": null,
   "metadata": {},
   "outputs": [],
   "source": [
    "# Import stocks dataset\n",
    "stocks_df = pd.read_csv(\n",
    "    Path('../Resources/[insert_title].csv'),\n",
    "    index_col= 'date',\n",
    "    parse_dates = True,\n",
    "    infer_datetime_format=True\n",
    ")\n",
    "\n",
    "# Review the DataFrame\n",
    "stocks_df.head()"
   ]
  },
  {
   "cell_type": "code",
   "execution_count": null,
   "metadata": {},
   "outputs": [],
   "source": [
    "#Filter the date index and close columns\n",
    "signals_df = stocks_df.loc[:, ['close']]\n",
    "\n",
    "# Use pct_change function to generate returns from close prices\n",
    "signals_df['Actual Returns'] = signals_df['close'].pct_change()\n",
    "\n",
    "#Drop all NaN values from the DataFrame\n",
    "signals_df = signals_df.dropna()\n",
    "\n",
    "#Review the DataFrame\n",
    "display(signals_df.head())\n",
    "display(signals_df.tail())"
   ]
  },
  {
   "cell_type": "markdown",
   "metadata": {},
   "source": [
    "# Create a trading algorithm using technical indicators"
   ]
  },
  {
   "cell_type": "markdown",
   "metadata": {},
   "source": [
    "## Generate Signals - Example using SMA with short and long window"
   ]
  },
  {
   "cell_type": "code",
   "execution_count": null,
   "metadata": {},
   "outputs": [],
   "source": [
    "# Create SMA signals DataFrame\n",
    "sma_signals_df = stocks_df.loc[:, [\"close\"]].copy()\n",
    "\n",
    "# Set the short and long windows\n",
    "short_window = 50\n",
    "long_window = 100\n",
    "\n",
    "# Create a short window SMA and long window SMA\n",
    "sma_signals_df['SMA_Fast'] = signals_df['close'].rolling(window=short_window).mean()\n",
    "sma_signals_df['SMA_Slow'] = signals_df['close'].rolling(window=long_window).mean()\n",
    "\n",
    "sma_signals_df = sma_signals_df.dropna()\n",
    "\n",
    "# Review the DataFrame\n",
    "display(sma_signals_df.head())\n",
    "display(sma_signals_df.tail())"
   ]
  },
  {
   "cell_type": "code",
   "execution_count": null,
   "metadata": {},
   "outputs": [],
   "source": [
    "# Initialize the new Signal column\n",
    "sma_signals_df['Signal'] = 0.0\n",
    "\n",
    "# When Actual Returns are greater than or equal to 0, generate signal to buy stock long\n",
    "sma_signals_df.loc[(signals_df['Actual Returns'] >= 0), 'Signal'] = 1.0\n",
    "\n",
    "# When Actual Returns are less than 0, generate signal to sell stock short\n",
    "sma_signals_df.loc[(signals_df['Actual Returns'] < 0), 'Signal'] = 0.0\n",
    "\n",
    "# Review the DataFrame\n",
    "display(sma_signals_df.head())\n",
    "display(sma_signals_df.tail())"
   ]
  },
  {
   "cell_type": "code",
   "execution_count": null,
   "metadata": {},
   "outputs": [],
   "source": [
    "# Review value counts\n",
    "sma_signals_df['Signal'].value_counts()"
   ]
  },
  {
   "cell_type": "code",
   "execution_count": null,
   "metadata": {},
   "outputs": [],
   "source": [
    "# Visualize close price for the investment\n",
    "stocks_close = signals_df[[\"close\"]].hvplot(\n",
    "    line_color='lightgray',\n",
    "    ylabel='Price in $',\n",
    "    width=1000,\n",
    "    height=400\n",
    ")\n",
    "\n",
    "# Visualize moving averages\n",
    "moving_avgs = signals_df[[\"SMA_Fast\", \"SMA_Slow\"]].hvplot(\n",
    "    ylabel='Price in $',\n",
    "    width=1000,\n",
    "    height=400\n",
    ")\n",
    "\n",
    "# Overlay plots\n",
    "sma_ema_plot = stocks_close * moving_avgs\n",
    "sma_ema_plot"
   ]
  },
  {
   "cell_type": "code",
   "execution_count": null,
   "metadata": {},
   "outputs": [],
   "source": [
    "# Calculate the strategy returns and add them to the signals_df DataFrame\n",
    "sma_signals_df['Strategy Returns'] = sma_signals_df['Actual Returns'] * sma_signals_df['Signal'].shift()\n",
    "\n",
    "# Review the DataFrame\n",
    "display(sma_signals_df.head())\n",
    "display(sma_signals_df.tail())"
   ]
  },
  {
   "cell_type": "code",
   "execution_count": null,
   "metadata": {},
   "outputs": [],
   "source": [
    "# Plot Strategy Returns to examine performance\n",
    "(1 + signals_df['Strategy Returns']).cumprod().hvplot(title='Strategy Returns')"
   ]
  },
  {
   "cell_type": "markdown",
   "metadata": {},
   "source": [
    "## Example using EMA technical indicators"
   ]
  },
  {
   "cell_type": "code",
   "execution_count": null,
   "metadata": {},
   "outputs": [],
   "source": [
    "# Create EMA signals DataFrame\n",
    "ema_signals_df = stocks_df.loc[:, [\"close\"]].copy()\n",
    "\n",
    "# Set the short window and long windows\n",
    "short_window = 50\n",
    "long_window = 100\n",
    "\n",
    "# Generate the short and long moving averages (50 and 100 days, respectively)\n",
    "ema_signals_df[\"EMA_Short\"] = signals_df[\"close\"].ewm(span=short_window).mean()\n",
    "ema_signals_df[\"EMA_Long\"] = signals_df[\"close\"].ewm(span=long_window).mean()\n",
    "\n",
    "# Review the DataFrame\n",
    "ema_signals_df.head()"
   ]
  },
  {
   "cell_type": "code",
   "execution_count": null,
   "metadata": {},
   "outputs": [],
   "source": [
    "# Set the signal column\n",
    "ema_signals_df['Signal'] = 0\n",
    "\n",
    "# Generate the trading signal 1 or 0\n",
    "# Where 1 is when the EMA50 is greater than (i.e. crosses over) the EMA100\n",
    "# Where 0 is when the EMA 50 is under the EMA100\n",
    "ema_signals_df['Signal'][short_window:] = np.where(\n",
    "    ema_signals_df['EMA50'][short_window:] > ema_signals_df['EMA100'][short_window:], 1.0, 0.0\n",
    ")\n",
    "\n",
    "# Calculate the points in time at which a position should be taken, 1 or 0\n",
    "ema_signals_df['Entry/Exit'] = ema_signals_df['Signal'].diff()\n",
    "\n",
    "# Review DataFrame\n",
    "ema_signals_df.head()"
   ]
  },
  {
   "cell_type": "code",
   "execution_count": null,
   "metadata": {},
   "outputs": [],
   "source": [
    "# Review value counts\n",
    "ema_signals_df['Signal'].value_counts()"
   ]
  },
  {
   "cell_type": "code",
   "execution_count": null,
   "metadata": {},
   "outputs": [],
   "source": [
    "# Visualize entry position relative to close price\n",
    "entry = ema_signals_df[ema_signals_df[\"Entry/Exit\"] == 1.0][\"close\"].hvplot.scatter(\n",
    "    color='purple',\n",
    "    marker='^',\n",
    "    size=200,\n",
    "    legend=False,\n",
    "    ylabel='Price in $',\n",
    "    width=1000,\n",
    "    height=400\n",
    ")\n",
    "\n",
    "# Visualize exit position relative to close price\n",
    "exit = ema_signals_df[ema_signals_df[\"Entry/Exit\"] == 0.0][\"close\"].hvplot.scatter(\n",
    "    color='orange',\n",
    "    marker='v',\n",
    "    size=200,\n",
    "    legend=False,\n",
    "    ylabel='Price in $',\n",
    "    width=1000,\n",
    "    height=400\n",
    ")\n",
    "\n",
    "# Visualize close price for the investment\n",
    "security_close = ema_signals_df[[\"close\"]].hvplot(\n",
    "    line_color='lightgray',\n",
    "    ylabel='Price in $',\n",
    "    width=1000,\n",
    "    height=400\n",
    ")\n",
    "\n",
    "# Visualize moving averages\n",
    "moving_avgs = ema_signals_df[[\"EMA50\", \"EMA100\"]].hvplot(\n",
    "    ylabel='Price in $',\n",
    "    width=1000,\n",
    "    height=400\n",
    ")\n",
    "\n",
    "# Overlay plots\n",
    "entry_exit_plot = security_close * moving_avgs * entry * exit\n",
    "entry_exit_plot\n"
   ]
  },
  {
   "cell_type": "code",
   "execution_count": null,
   "metadata": {},
   "outputs": [],
   "source": [
    "# Calculate the strategy returns and add them to the signals_df DataFrame\n",
    "ema_signals_df['Strategy Returns'] = ema_signals_df['Actual Returns'] * ema_signals_df['Signal'].shift()\n",
    "\n",
    "# Review the DataFrame\n",
    "display(ema_signals_df.head())\n",
    "display(ema_signals_df.tail())"
   ]
  },
  {
   "cell_type": "code",
   "execution_count": null,
   "metadata": {},
   "outputs": [],
   "source": [
    "# Plot Strategy Returns to examine performance\n",
    "(1 + signals_df['Strategy Returns']).cumprod().hvplot(title='Strategy Returns')"
   ]
  },
  {
   "cell_type": "markdown",
   "metadata": {},
   "source": [
    "# Example - Using Bollinger Bands"
   ]
  },
  {
   "cell_type": "code",
   "execution_count": null,
   "metadata": {},
   "outputs": [],
   "source": [
    "# Create Bollinger Bands signals DataFrame\n",
    "bb_stocks_df = TA.BBANDS(stocks_df)\n",
    "\n",
    "# Review DataFrame\n",
    "bb_stocks_df.head[17:25, :]"
   ]
  },
  {
   "cell_type": "code",
   "execution_count": null,
   "metadata": {},
   "outputs": [],
   "source": [
    "# Concatenate the Bollinger Bands to the stocks DataFrame\n",
    "bb_signals_df = pd.concat([stocks_df, bb_stocks_df])\n",
    "\n",
    "# Review the DataFrame\n",
    "bb_signals_df[17:25, :]"
   ]
  },
  {
   "cell_type": "code",
   "execution_count": null,
   "metadata": {},
   "outputs": [],
   "source": [
    "# Visualize close price for stocks\n",
    "security_close = bb_signals_df[[\"close\"]].hvplot(\n",
    "    line_color=\"lightgray\",\n",
    "    ylabel=\"Price in $\",\n",
    "    width=1000,\n",
    "    height=400\n",
    ")\n",
    "\n",
    "bb_upper = bb_signals_df[[\"BB_UPPER\"]].hvplot(\n",
    "    line_color=\"purple\",\n",
    "    ylabel=\"Price in $\",\n",
    "    width=1000,\n",
    "    height=400\n",
    ")\n",
    "\n",
    "\n",
    "bb_middle = bb_signals_df[[\"BB_MIDDLE\"]].hvplot(\n",
    "    line_color=\"orange\",\n",
    "    ylabel=\"Price in $\",\n",
    "    width=1000,\n",
    "    height=400\n",
    ")\n",
    "\n",
    "bb_lower = bb_signals_df[[\"BB_LOWER\"]].hvplot(\n",
    "    line_color=\"blue\",\n",
    "    ylabel=\"Price in $\",\n",
    "    width=1000,\n",
    "    height=400\n",
    ")\n",
    "\n",
    "\n",
    "# Overlay plots\n",
    "bbands_plot = security_close * bb_upper * bb_middle * bb_lower\n",
    "bbands_plot"
   ]
  },
  {
   "cell_type": "markdown",
   "metadata": {},
   "source": [
    "# Create Trading Algorithm Using Bollinger Bands"
   ]
  },
  {
   "cell_type": "code",
   "execution_count": null,
   "metadata": {},
   "outputs": [],
   "source": [
    "# Create a Trading Algorithm Using Bollinger Bands\n",
    "# Set the Signal column\n",
    "bb_signals_df['Signal'] = 0.0\n",
    "\n",
    "# Generate the trading signals 1 (entry) or -1 (exit) for a long position trading algorithm\n",
    "# where 1 is when the Close price is less than the BB_LOWER window\n",
    "# where -1 is when the Close price is greater the the BB_UPPER window\n",
    "for index, row in bb_stocks_df.iterrows():\n",
    "    if row[\"close\"] < row[\"BB_LOWER\"]:\n",
    "        bb_stocks_df.loc[index, \"Signal\"] = 1.0\n",
    "    if row[\"close\"] > row[\"BB_UPPER\"]:\n",
    "        bb_stocks_df.loc[index,\"Signal\"] = 0.0\n",
    "\n",
    "# Review the DataFrame\n",
    "bb_stocks_df.tail()"
   ]
  },
  {
   "cell_type": "markdown",
   "metadata": {},
   "source": [
    "# Visualize Entry/Exit Positions using Bollinger Bands"
   ]
  },
  {
   "cell_type": "code",
   "execution_count": null,
   "metadata": {},
   "outputs": [],
   "source": [
    "# Visualize entry position relative to close price\n",
    "entry = bb_stocks_df[bb_signals_df[\"Signal\"] == 1.0][\"close\"].hvplot.scatter(\n",
    "    color=\"green\",\n",
    "    marker=\"^\",\n",
    "    size=200,\n",
    "    legend=False,\n",
    "    ylabel=\"Price in $\",\n",
    "    width=1000,\n",
    "    height=400\n",
    ")\n",
    "\n",
    "# Visualize exit position relative to close price\n",
    "exit = bb_stocks_df[bb_signals_df[\"Signal\"] == 0.0][\"close\"].hvplot.scatter(\n",
    "    color=\"red\",\n",
    "    marker=\"v\",\n",
    "    size=200,\n",
    "    legend=False,\n",
    "    ylabel=\"Price in $\",\n",
    "    width=1000,\n",
    "    height=400\n",
    ")\n",
    "\n",
    "# Visualize close price for the investment\n",
    "security_close = bb_signals_df[[\"close\"]].hvplot(\n",
    "    line_color=\"lightgray\",\n",
    "    ylabel=\"Price in $\",\n",
    "    width=1000,\n",
    "    height=400\n",
    ")\n",
    "\n",
    "bb_upper = bb_signals_df[[\"BB_UPPER\"]].hvplot(\n",
    "    line_color=\"purple\",\n",
    "    ylabel=\"Price in $\",\n",
    "    width=1000,\n",
    "    height=400\n",
    ")\n",
    "\n",
    "\n",
    "bb_middle = bb_signals_df[[\"BB_MIDDLE\"]].hvplot(\n",
    "    line_color=\"orange\",\n",
    "    ylabel=\"Price in $\",\n",
    "    width=1000,\n",
    "    height=400\n",
    ")\n",
    "\n",
    "bb_lower = bb_signals_df[[\"BB_LOWER\"]].hvplot(\n",
    "    line_color=\"blue\",\n",
    "    ylabel=\"Price in $\",\n",
    "    width=1000,\n",
    "    height=400\n",
    ")\n",
    "\n",
    "\n",
    "# Overlay plots\n",
    "bbands_plot = security_close * bb_upper * bb_middle * bb_lower * entry * exit\n",
    "bbands_plot"
   ]
  },
  {
   "cell_type": "code",
   "execution_count": null,
   "metadata": {},
   "outputs": [],
   "source": [
    "# Calculate the strategy returns and add them to the signals_df DataFrame\n",
    "bb_signals_df['Strategy Returns'] = bb_signals_df['Actual Returns'] * bb_signals_df['Signal'].shift()\n",
    "\n",
    "# Review the DataFrame\n",
    "display(bb_signals_df.head())\n",
    "display(bb_signals_df.tail())"
   ]
  },
  {
   "cell_type": "code",
   "execution_count": null,
   "metadata": {},
   "outputs": [],
   "source": [
    "# Plot Strategy Returns to examine performance\n",
    "(1 + bb_signals_df['Strategy Returns']).cumprod().hvplot(title='Strategy Returns'"
   ]
  },
  {
   "cell_type": "markdown",
   "metadata": {},
   "source": [
    "# Split Data into Training and Testing datasets"
   ]
  },
  {
   "cell_type": "markdown",
   "metadata": {},
   "source": [
    "## SMA Example"
   ]
  },
  {
   "cell_type": "code",
   "execution_count": null,
   "metadata": {},
   "outputs": [],
   "source": [
    "# Assign a copy of the sma_fast and sma_slow columns to a features DataFrame called X\n",
    "X = signals_df[['SMA_Fast', 'SMA_Slow']].shift().dropna().copy()\n",
    "\n",
    "# Review the DataFrame\n",
    "X.head()"
   ]
  },
  {
   "cell_type": "code",
   "execution_count": null,
   "metadata": {},
   "outputs": [],
   "source": [
    "# Create the target set selecting the Signal column and assiging it to y\n",
    "y = signals_df['Signal'].copy()\n",
    "\n",
    "# Review the value counts\n",
    "y.value_counts()"
   ]
  },
  {
   "cell_type": "code",
   "execution_count": null,
   "metadata": {},
   "outputs": [],
   "source": [
    "# Select the start of the training period\n",
    "training_begin = X.index.min()\n",
    "\n",
    "# Display the training begin date\n",
    "print(training_begin)"
   ]
  },
  {
   "cell_type": "code",
   "execution_count": null,
   "metadata": {},
   "outputs": [],
   "source": [
    "# Select the ending period for the training data with an offset of 48 months\n",
    "training_end = training_begin + DateOffset(months=48)\n",
    "# Display the training end date\n",
    "print(training_end)"
   ]
  },
  {
   "cell_type": "code",
   "execution_count": null,
   "metadata": {},
   "outputs": [],
   "source": [
    "# Generate the X_train and y_train DataFrames\n",
    "X_train = X.loc[training_begin:training_end]\n",
    "y_train = y.loc[training_begin:training_end]\n",
    "\n",
    "# Review the X_train DataFrame\n",
    "X_train.head()"
   ]
  },
  {
   "cell_type": "code",
   "execution_count": null,
   "metadata": {},
   "outputs": [],
   "source": [
    "# Generate the X_test and y_test DataFrames\n",
    "X_test = X.loc[training_end:]\n",
    "y_test = y.loc[training_end:]\n",
    "\n",
    "# Review the X_test DataFrame\n",
    "X_test.head()"
   ]
  },
  {
   "cell_type": "code",
   "execution_count": null,
   "metadata": {},
   "outputs": [],
   "source": [
    "# Scale the features DataFrames\n",
    "\n",
    "# Create a StandardScaler instance\n",
    "scaler = StandardScaler()\n",
    "\n",
    "# Apply the scaler model to fit the X-train data\n",
    "X_scaler = scaler.fit(X_train)\n",
    "\n",
    "# Transform the X_train and X_test DataFrames using the X_scaler\n",
    "X_train_scaled = X_scaler.transform(X_train)\n",
    "X_test_scaled = X_scaler.transform(X_test)"
   ]
  },
  {
   "cell_type": "code",
   "execution_count": null,
   "metadata": {},
   "outputs": [],
   "source": [
    "# From instantiate classifier model instance\n",
    "model = svm.SVC()\n",
    " \n",
    "# Fit the model to the data using the training data\n",
    "model = model.fit(X_train_scaled, y_train)\n",
    " \n",
    "# Use the testing data to make the model predictions\n",
    "predictions = model.predict(X_test_scaled)\n",
    "\n",
    "# Review the model's predicted values\n",
    "predictions[:10]"
   ]
  },
  {
   "cell_type": "code",
   "execution_count": null,
   "metadata": {},
   "outputs": [],
   "source": [
    "# Use a classification report to evaluate the model using the predictions and testing data\n",
    "testing_report = classification_report(y_test, predictions)\n",
    "\n",
    "# Print the classification report\n",
    "print(testing_report)"
   ]
  },
  {
   "cell_type": "code",
   "execution_count": null,
   "metadata": {},
   "outputs": [],
   "source": [
    "# Create a new empty predictions DataFrame:\n",
    "\n",
    "# Create a predictions DataFrame\n",
    "predictions_df = pd.DataFrame(index=X_test.index)\n",
    "\n",
    "# Add the SVM model predictions to the DataFrame\n",
    "predictions_df['Predicted'] = svm_pred\n",
    "\n",
    "# Add the actual returns to the DataFrame\n",
    "predictions_df['Actual Returns'] = signals_df['Actual Returns']\n",
    "\n",
    "# Add the strategy returns to the DataFrame\n",
    "predictions_df['Strategy Returns'] = signals_df['Strategy Returns']\n",
    "\n",
    "# Review the DataFrame\n",
    "display(predictions_df.head())\n",
    "display(predictions_df.tail())"
   ]
  },
  {
   "cell_type": "code",
   "execution_count": null,
   "metadata": {},
   "outputs": [],
   "source": [
    "# Plot the actual returns versus the strategy returns\n",
    "(1 + predictions_df[['Actual Returns', 'Strategy Returns']]).cumprod().hvplot(\n",
    "    title='[ML Model] Strategy Returns'\n",
    "    )"
   ]
  },
  {
   "cell_type": "markdown",
   "metadata": {},
   "source": [
    "# Tune the Baseline Trading Algorithm"
   ]
  },
  {
   "cell_type": "markdown",
   "metadata": {},
   "source": [
    "## Make Adjustments with parameters or with different model"
   ]
  },
  {
   "cell_type": "markdown",
   "metadata": {},
   "source": [
    "### Tuning options include tuning windows of SMA/EMA, adjusting train/test split, include/exclude indicators/signals"
   ]
  },
  {
   "cell_type": "markdown",
   "metadata": {},
   "source": [
    "# Evaluate a New Machine Learning Classifier and compare models"
   ]
  },
  {
   "cell_type": "code",
   "execution_count": null,
   "metadata": {},
   "outputs": [],
   "source": [
    "# Import a new classifier from SKLearn\n",
    "from sklearn.ensemble import RandomForestClassifier\n",
    "\n",
    "# Initiate the model instance\n",
    "ml_model = RandomForestClassifier()"
   ]
  },
  {
   "cell_type": "code",
   "execution_count": null,
   "metadata": {},
   "outputs": [],
   "source": [
    "# Using the original training data as the baseline model, fit another model with the new classifier.\n",
    "# Fit the model using the training data\n",
    "ml_model.fit(X_train_scaled, y_train)\n",
    "\n",
    "# Use the testing dataset to generate the predictions for the new model\n",
    "ml_predictions = ml_model.predict(X_test_scaled)\n",
    "\n",
    "# Review the model's predicted values\n",
    "ml_predictions[:10]\n"
   ]
  },
  {
   "cell_type": "code",
   "execution_count": null,
   "metadata": {},
   "outputs": [],
   "source": [
    "# Use a classification report to evaluate the model using the predictions and testing data\n",
    "ml_testing_report = classification_report(y_test, ml_predictions)\n",
    "\n",
    "# Print the classification report\n",
    "print(ml_testing_report)"
   ]
  },
  {
   "cell_type": "code",
   "execution_count": null,
   "metadata": {},
   "outputs": [],
   "source": [
    "# Create a new empty predictions DataFrame:\n",
    "\n",
    "# Create a predictions DataFrame\n",
    "ml_predictions_df = pd.DataFrame(index=X_test.index)\n",
    "\n",
    "# Add the Logistic Regression model predictions to the DataFrame\n",
    "ml_predictions_df['Strategy Returns'] = ml_pred\n",
    "\n",
    "# Add the actual returns to the DataFrame\n",
    "ml_predictions_df['Actual Returns'] = signals_df['Actual Returns']\n",
    "\n",
    "# Add the strategy returns to the DataFrame\n",
    "ml_predictions_df['Trading Algorithm Returns'] = (\n",
    "    ml_predictions_df['Actual Returns'] * ml_predictions_df['Strategy Returns']\n",
    ")\n",
    "\n",
    "# Review the DataFrame\n",
    "display(ml_predictions_df.head())\n",
    "display(ml_predictions_df.tail())"
   ]
  },
  {
   "cell_type": "code",
   "execution_count": null,
   "metadata": {},
   "outputs": [],
   "source": [
    "# Plot the actual returns versus the strategy returns\n",
    "(1 + ml_predictions_df[['Actual Returns', 'Trading Algorithm Returns']]).cumprod().hvplot(\n",
    "    title='[ML Model] Strategy Returns'\n",
    "    )"
   ]
  },
  {
   "cell_type": "markdown",
   "metadata": {},
   "source": [
    "# Backtesting"
   ]
  },
  {
   "cell_type": "code",
   "execution_count": null,
   "metadata": {},
   "outputs": [],
   "source": [
    "# Set initial capital\n",
    "initial_capital = float(100000)\n",
    "\n",
    "# Set the share size\n",
    "share_size = 500"
   ]
  },
  {
   "cell_type": "code",
   "execution_count": null,
   "metadata": {},
   "outputs": [],
   "source": [
    "# Buy a 500 share position when the dual moving average crossover Signal equals 1\n",
    "# Otherwise, `Position` should be zero (sell)\n",
    "signals_df['Position'] = share_size * signals_df['Signal']"
   ]
  },
  {
   "cell_type": "code",
   "execution_count": null,
   "metadata": {},
   "outputs": [],
   "source": [
    "# Determine the points in time where a 500 share position is bought or sold\n",
    "signals_df['Entry/Exit Position'] = signals_df['Position'].diff()"
   ]
  },
  {
   "cell_type": "code",
   "execution_count": null,
   "metadata": {},
   "outputs": [],
   "source": [
    "# Multiply the close price by the number of shares held, or the Position\n",
    "signals_df['Portfolio Holdings'] = signals_df['close'] * signals_df['Position']"
   ]
  },
  {
   "cell_type": "code",
   "execution_count": null,
   "metadata": {},
   "outputs": [],
   "source": [
    "# Subtract the amount of either the cost or proceeds of the trade from the initial capital invested\n",
    "signals_df['Portfolio Cash'] = initial_capital - (signals_df['close'] * signals_df['Entry/Exit Position']).cumsum()"
   ]
  },
  {
   "cell_type": "code",
   "execution_count": null,
   "metadata": {},
   "outputs": [],
   "source": [
    "# Calculate the total portfolio value by adding the portfolio cash to the portfolio holdings (or investments)\n",
    "signals_df['Portfolio Total'] = signals_df['Portfolio Cash'] + signals_df['Portfolio Holdings']"
   ]
  },
  {
   "cell_type": "code",
   "execution_count": null,
   "metadata": {},
   "outputs": [],
   "source": [
    "# Calculate the portfolio daily returns\n",
    "signals_df['Portfolio Daily Returns'] = signals_df['Portfolio Total'].pct_change()"
   ]
  },
  {
   "cell_type": "code",
   "execution_count": null,
   "metadata": {},
   "outputs": [],
   "source": [
    "# Print the DataFrame\n",
    "signals_df.head(150)"
   ]
  },
  {
   "cell_type": "code",
   "execution_count": null,
   "metadata": {},
   "outputs": [],
   "source": [
    "# Visualize exit position relative to total portfolio value\n",
    "exit = signals_df[signals_df['Entry/Exit'] == -1.0]['Portfolio Total'].hvplot.scatter(\n",
    "    color='yellow',\n",
    "    marker='v',\n",
    "    legend=False,\n",
    "    ylabel='Total Portfolio Value',\n",
    "    width=1000,\n",
    "    height=400\n",
    ")\n",
    "\n",
    "# Visualize entry position relative to total portfolio value\n",
    "entry = signals_df[signals_df['Entry/Exit'] == 1.0]['Portfolio Total'].hvplot.scatter(\n",
    "    color='purple',\n",
    "    marker='^',\n",
    "    ylabel='Total Portfolio Value',\n",
    "    width=1000,\n",
    "    height=400\n",
    ")\n",
    "\n",
    "# Visualize the value of the total portfolio\n",
    "total_portfolio_value = signals_df[['Portfolio Total']].hvplot(\n",
    "    line_color='lightgray',\n",
    "    ylabel='Total Portfolio Value',\n",
    "    xlabel='Date',\n",
    "    width=1000,\n",
    "    height=400\n",
    ")\n",
    "\n",
    "# Overlay the plots\n",
    "portfolio_entry_exit_plot = total_portfolio_value * entry * exit\n",
    "portfolio_entry_exit_plot.opts(\n",
    "    title=\"Apple Algorithm - Total Portfolio Value\",\n",
    "    yformatter='%.0f'\n",
    ")"
   ]
  },
  {
   "cell_type": "markdown",
   "metadata": {},
   "source": [
    "# Assessing Risk/Reward"
   ]
  },
  {
   "cell_type": "markdown",
   "metadata": {},
   "source": [
    "# Calculate the Metrics"
   ]
  },
  {
   "cell_type": "markdown",
   "metadata": {},
   "source": [
    "## Setup the Portfolio-Level Risk/Reward Evaluation Metrics"
   ]
  },
  {
   "cell_type": "code",
   "execution_count": null,
   "metadata": {},
   "outputs": [],
   "source": [
    "# Create a list for the column name\n",
    "columns = [\"Backtest\"]\n",
    "\n",
    "# Create a list holding the names of the new evaluation metrics\n",
    "metrics = [\n",
    "    \"Annualized Return\",\n",
    "    \"Cumulative Returns\",\n",
    "    \"Annual Volatility\",\n",
    "    \"Sharpe Ratio\",\n",
    "    \"Sortino Ratio\"]\n",
    "\n",
    "# Initialize the DataFrame with index set to the evaluation metrics and the column\n",
    "portfolio_evaluation_df = pd.DataFrame(index=metrics, columns=columns)\n",
    "\n",
    "# Review the DataFrame\n",
    "portfolio_evaluation_df"
   ]
  },
  {
   "cell_type": "markdown",
   "metadata": {},
   "source": [
    "# Calculate Metrics"
   ]
  },
  {
   "cell_type": "markdown",
   "metadata": {},
   "source": [
    "## Annualized Returns"
   ]
  },
  {
   "cell_type": "code",
   "execution_count": null,
   "metadata": {},
   "outputs": [],
   "source": [
    "# Calculate annualized return\n",
    "portfolio_evaluation_df.loc[\"Annualized Return\"] = (\n",
    "    signals_df[\"Portfolio Daily Returns\"].mean() * 252\n",
    ")\n",
    "\n",
    "# Review the result\n",
    "portfolio_evaluation_df"
   ]
  },
  {
   "cell_type": "markdown",
   "metadata": {},
   "source": [
    "## Cumulative Returns"
   ]
  },
  {
   "cell_type": "code",
   "execution_count": null,
   "metadata": {},
   "outputs": [],
   "source": [
    "# Calculate cumulative return\n",
    "portfolio_evaluation_df.loc[\"Cumulative Returns\"] = signals_df[\"Portfolio Cumulative Returns\"][-1]\n",
    "\n",
    "# Review the result\n",
    "portfolio_evaluation_df"
   ]
  },
  {
   "cell_type": "markdown",
   "metadata": {},
   "source": [
    "## Annual Volatility"
   ]
  },
  {
   "cell_type": "code",
   "execution_count": null,
   "metadata": {},
   "outputs": [],
   "source": [
    "### Annual Volatility\n",
    "# Calculate annual volatility\n",
    "portfolio_evaluation_df.loc[\"Annual Volatility\"] = (\n",
    "    signals_df[\"Portfolio Daily Returns\"].std() * np.sqrt(252)\n",
    ")\n",
    "\n",
    "# Review the result\n",
    "portfolio_evaluation_df"
   ]
  },
  {
   "cell_type": "markdown",
   "metadata": {},
   "source": [
    "## Sharpe Ratio"
   ]
  },
  {
   "cell_type": "code",
   "execution_count": null,
   "metadata": {},
   "outputs": [],
   "source": [
    "# Calculate Sharpe ratio\n",
    "portfolio_evaluation_df.loc[\"Sharpe Ratio\"] = (\n",
    "    signals_df[\"Portfolio Daily Returns\"].mean() * 252) / (\n",
    "    signals_df[\"Portfolio Daily Returns\"].std() * np.sqrt(252)\n",
    ")\n",
    "\n",
    "# Review the result\n",
    "portfolio_evaluation_df"
   ]
  },
  {
   "cell_type": "markdown",
   "metadata": {},
   "source": [
    "# Sortino Ratio"
   ]
  },
  {
   "cell_type": "markdown",
   "metadata": {},
   "source": [
    "### Calculate downside returns"
   ]
  },
  {
   "cell_type": "code",
   "execution_count": null,
   "metadata": {},
   "outputs": [],
   "source": [
    "# Create a DataFrame that contains the Portfolio Daily Returns column\n",
    "sortino_ratio_df = signals_df[[\"Portfolio Daily Returns\"]].copy()\n",
    "\n",
    "# Create a column to hold downside return values\n",
    "sortino_ratio_df.loc[:,\"Downside Returns\"] = 0\n",
    "\n",
    "# Find Portfolio Daily Returns values less than 0,\n",
    "# square those values, and add them to the Downside Returns column\n",
    "sortino_ratio_df.loc[sortino_ratio_df[\"Portfolio Daily Returns\"] < 0,\n",
    "                     \"Downside Returns\"] = sortino_ratio_df[\"Portfolio Daily Returns\"]**2\n",
    "\n",
    "# Review the DataFrame\n",
    "sortino_ratio_df.tail()"
   ]
  },
  {
   "cell_type": "code",
   "execution_count": null,
   "metadata": {},
   "outputs": [],
   "source": [
    "# Calculate the annualized downside standard deviation value\n",
    "downside_standard_deviation = (\n",
    "    np.sqrt(sortino_ratio_df[\"Downside Returns\"].std()) * np.sqrt(252)\n",
    ")\n",
    "\n",
    "# Print the result\n",
    "print(f\"Annualized Downside STD: {downside_standard_deviation}\")"
   ]
  },
  {
   "cell_type": "code",
   "execution_count": null,
   "metadata": {},
   "outputs": [],
   "source": [
    "# The Sortino ratio is reached by dividing the annualized return value\n",
    "# by the downside standard deviation value\n",
    "sortino_ratio = annualized_return/downside_standard_deviation\n",
    "\n",
    "# Add the Sortino ratio to the evaluation DataFrame\n",
    "portfolio_evaluation_df.loc[\"Sortino Ratio\"] = sortino_ratio\n",
    "\n",
    "# Review the DataFrame\n",
    "portfolio_evaluation_df"
   ]
  },
  {
   "cell_type": "code",
   "execution_count": null,
   "metadata": {},
   "outputs": [],
   "source": [
    "# Loop through signal DataFrame\n",
    "# If `Entry/Exit` is 1, set entry trade metrics\n",
    "# Else if `Entry/Exit` is -1, set exit trade metrics and calculate profit\n",
    "# Then append the record to the trade evaluation DataFrame\n",
    "for index, row in signals_df.iterrows():\n",
    "    if row[\"Entry/Exit\"] == 1:\n",
    "        entry_date = index\n",
    "        entry_portfolio_holding = row[\"Portfolio Holdings\"]\n",
    "        share_size = row[\"Entry/Exit Position\"]\n",
    "        entry_share_price = row[\"close\"]\n",
    "\n",
    "    elif row[\"Entry/Exit\"] == -1:\n",
    "        exit_date = index\n",
    "        exit_portfolio_holding = abs(row[\"close\"] * row[\"Entry/Exit Position\"])\n",
    "        exit_share_price = row[\"close\"]\n",
    "        profit_loss = exit_portfolio_holding - entry_portfolio_holding\n",
    "        trade_evaluation_df = trade_evaluation_df.append(\n",
    "            {\n",
    "                \"Stock\": \"AAPL\",\n",
    "                \"Entry Date\": entry_date,\n",
    "                \"Exit Date\": exit_date,\n",
    "                \"Shares\": share_size,\n",
    "                \"Entry Share Price\": entry_share_price,\n",
    "                \"Exit Share Price\": exit_share_price,\n",
    "                \"Entry Portfolio Holding\": entry_portfolio_holding,\n",
    "                \"Exit Portfolio Holding\": exit_portfolio_holding,\n",
    "                \"Profit/Loss\": profit_loss\n",
    "            },\n",
    "            ignore_index=True)\n",
    "\n",
    "# Print the DataFrame\n",
    "trade_evaluation_df"
   ]
  },
  {
   "cell_type": "markdown",
   "metadata": {},
   "source": [
    "# Assessing Results"
   ]
  },
  {
   "cell_type": "code",
   "execution_count": null,
   "metadata": {},
   "outputs": [],
   "source": [
    "# Initialize share size and accumulated shares\n",
    "share_size = 100\n",
    "accumulated_shares = 0\n",
    "\n",
    "# Initialize variable to hold previous day's trading price\n",
    "# Set the initial value of the previous_price to 0\n",
    "previous_price = 0"
   ]
  },
  {
   "cell_type": "code",
   "execution_count": null,
   "metadata": {},
   "outputs": [],
   "source": [
    "# Loop through the Pandas DataFrame and initiate a trade at each iteration\n",
    "for index, row in df.iterrows():\n",
    "\n",
    "    # buy if the previous_price is 0, in other words, buy on the first day\n",
    "    if previous_price == 0:\n",
    "        df.loc[index, \"trade_type\"] = \"buy\"\n",
    "\n",
    "        # calculate the cost of the trade by multiplying the current day's price\n",
    "        # by the share_size, or number of shares purchased\n",
    "        df.loc[index, \"cost/proceeds\"] = -(row[\"close\"] * share_size)\n",
    "\n",
    "        # add the number of shares purchased to the accumulated shares\n",
    "        accumulated_shares += share_size\n",
    "\n",
    "    # buy if the current day's price is less than the previous day's price\n",
    "    elif row[\"close\"] < previous_price:\n",
    "        df.loc[index, \"trade_type\"] = \"buy\"\n",
    "\n",
    "        # calculate the cost of the trade by multiplying the current day's price\n",
    "        # by the share_size, or number of shares purchased\n",
    "        df.loc[index, \"cost/proceeds\"] = -(row[\"close\"] * share_size)\n",
    "\n",
    "        # add the number of shares purchased to the accumulated shares\n",
    "        accumulated_shares += share_size\n",
    "\n",
    "    # hold if the current day's price is greater than the previous day's price\n",
    "    elif row[\"close\"] > previous_price:\n",
    "        df.loc[index, \"trade_type\"] = \"hold\"\n",
    "\n",
    "    # hold if the current day's price is equal to the previous day's price\n",
    "    else:\n",
    "        df.loc[index, \"trade_type\"] = \"hold\"\n",
    "\n",
    "    # update the previous_price to the current row's price\n",
    "    previous_price = row[\"close\"]\n",
    "\n",
    "    # if the index is the last index of the DataFrame, sell\n",
    "    if index == df.index[-1]:\n",
    "        df.loc[index, \"trade_type\"] = \"sell\"\n",
    "\n",
    "        # calculate the proceeds by multiplying the last day's price by the accumulated shares\n",
    "        df.loc[index, \"cost/proceeds\"] = row[\"close\"] * accumulated_shares"
   ]
  },
  {
   "cell_type": "code",
   "execution_count": null,
   "metadata": {},
   "outputs": [],
   "source": [
    "# Review the DataFrame\n",
    "df.head"
   ]
  },
  {
   "cell_type": "markdown",
   "metadata": {},
   "source": [
    "## Calculate Total Profit or Loss"
   ]
  },
  {
   "cell_type": "code",
   "execution_count": null,
   "metadata": {},
   "outputs": [],
   "source": [
    "# Calculate the total profit/loss for 100 share size orders\n",
    "total_profit_loss = round(df[\"cost/proceeds\"].sum(), 2)\n",
    "\n",
    "# Print the profit/loss metrics\n",
    "print(f\"The total profit/loss of the trading strategy is ${total_profit_loss}.\")"
   ]
  },
  {
   "cell_type": "markdown",
   "metadata": {},
   "source": [
    "## Calculate the Return on Investment"
   ]
  },
  {
   "cell_type": "code",
   "execution_count": null,
   "metadata": {},
   "outputs": [],
   "source": [
    "# Initialize the variable to hold the value of the invested capital\n",
    "invested_capital = 0\n",
    "\n",
    "# Calculate the invested capital by adding the cost of all buy trades\n",
    "for index, row in df.iterrows():\n",
    "    if row[\"trade_type\"] == \"buy\":\n",
    "        invested_capital = invested_capital + row[\"cost/proceeds\"]\n",
    "\n",
    "\n",
    "# Calculate the return on investment (ROI)\n",
    "roi = round((total_profit_loss / -(invested_capital)) * 100, 2)\n",
    "\n",
    "# Print the ROI\n",
    "print(f\"The trading algorithm resulted in a return on investment of {roi}%\")"
   ]
  }
 ],
 "metadata": {
  "interpreter": {
   "hash": "0bea09c37f0c2733e0c0a4c68d9ae77505d6c16f15dde306c84790fa4d0c9800"
  },
  "kernelspec": {
   "display_name": "Python 3.7.11 ('algotrading')",
   "language": "python",
   "name": "python3"
  },
  "language_info": {
   "name": "python",
   "version": "3.7.11"
  },
  "orig_nbformat": 4
 },
 "nbformat": 4,
 "nbformat_minor": 2
}
