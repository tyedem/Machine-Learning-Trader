{
 "cells": [
  {
   "cell_type": "code",
   "execution_count": 1,
   "metadata": {},
   "outputs": [],
   "source": [
    "# Import all libraries and dependencies\n",
    "\n",
    "import datetime\n",
    "import pandas as pd\n",
    "import yfinance as yf\n",
    "from pathlib import Path"
   ]
  },
  {
   "cell_type": "code",
   "execution_count": 2,
   "metadata": {},
   "outputs": [],
   "source": [
    "#Define the tickers to download data of the stocks.\n",
    "tickers = [\"L.TO\"]\n",
    "\n",
    "# Fetch tickers data from 1/1/2019 until 3/3/2022.\n",
    "start_date = datetime.date(2019,1,1)\n",
    "end_date = datetime.date(2022,3,3)\n",
    "interval = '1d'\n",
    "period = round((end_date - start_date).days/365,0)\n",
    "if interval == \"1d\":\n",
    "    annual_interval = 252"
   ]
  },
  {
   "cell_type": "code",
   "execution_count": 3,
   "metadata": {},
   "outputs": [
    {
     "name": "stdout",
     "output_type": "stream",
     "text": [
      "[*********************100%***********************]  1 of 1 completed\n"
     ]
    },
    {
     "data": {
      "text/plain": [
       "pandas.core.frame.DataFrame"
      ]
     },
     "execution_count": 3,
     "metadata": {},
     "output_type": "execute_result"
    }
   ],
   "source": [
    "# Use yfinance to download the data\n",
    "yf.Tickers(tickers)\n",
    "stock_data = yf.download(tickers, start = start_date, end = end_date, interval = interval)\n",
    "\n",
    "# Check the data type\n",
    "type(stock_data)"
   ]
  },
  {
   "cell_type": "code",
   "execution_count": 4,
   "metadata": {},
   "outputs": [
    {
     "data": {
      "text/html": [
       "<div>\n",
       "<style scoped>\n",
       "    .dataframe tbody tr th:only-of-type {\n",
       "        vertical-align: middle;\n",
       "    }\n",
       "\n",
       "    .dataframe tbody tr th {\n",
       "        vertical-align: top;\n",
       "    }\n",
       "\n",
       "    .dataframe thead th {\n",
       "        text-align: right;\n",
       "    }\n",
       "</style>\n",
       "<table border=\"1\" class=\"dataframe\">\n",
       "  <thead>\n",
       "    <tr style=\"text-align: right;\">\n",
       "      <th></th>\n",
       "      <th>Open</th>\n",
       "      <th>High</th>\n",
       "      <th>Low</th>\n",
       "      <th>Close</th>\n",
       "      <th>Adj Close</th>\n",
       "      <th>Volume</th>\n",
       "    </tr>\n",
       "    <tr>\n",
       "      <th>Date</th>\n",
       "      <th></th>\n",
       "      <th></th>\n",
       "      <th></th>\n",
       "      <th></th>\n",
       "      <th></th>\n",
       "      <th></th>\n",
       "    </tr>\n",
       "  </thead>\n",
       "  <tbody>\n",
       "    <tr>\n",
       "      <th>2019-01-02</th>\n",
       "      <td>60.970001</td>\n",
       "      <td>61.799999</td>\n",
       "      <td>60.450001</td>\n",
       "      <td>61.049999</td>\n",
       "      <td>57.818462</td>\n",
       "      <td>626700</td>\n",
       "    </tr>\n",
       "    <tr>\n",
       "      <th>2019-01-03</th>\n",
       "      <td>60.770000</td>\n",
       "      <td>61.110001</td>\n",
       "      <td>60.369999</td>\n",
       "      <td>60.669998</td>\n",
       "      <td>57.458569</td>\n",
       "      <td>617800</td>\n",
       "    </tr>\n",
       "    <tr>\n",
       "      <th>2019-01-04</th>\n",
       "      <td>60.930000</td>\n",
       "      <td>61.290001</td>\n",
       "      <td>60.509998</td>\n",
       "      <td>60.799999</td>\n",
       "      <td>57.581688</td>\n",
       "      <td>444100</td>\n",
       "    </tr>\n",
       "    <tr>\n",
       "      <th>2019-01-07</th>\n",
       "      <td>61.000000</td>\n",
       "      <td>61.599998</td>\n",
       "      <td>60.470001</td>\n",
       "      <td>61.369999</td>\n",
       "      <td>58.121513</td>\n",
       "      <td>724700</td>\n",
       "    </tr>\n",
       "    <tr>\n",
       "      <th>2019-01-08</th>\n",
       "      <td>61.549999</td>\n",
       "      <td>62.090000</td>\n",
       "      <td>61.310001</td>\n",
       "      <td>61.849998</td>\n",
       "      <td>58.576099</td>\n",
       "      <td>601100</td>\n",
       "    </tr>\n",
       "    <tr>\n",
       "      <th>...</th>\n",
       "      <td>...</td>\n",
       "      <td>...</td>\n",
       "      <td>...</td>\n",
       "      <td>...</td>\n",
       "      <td>...</td>\n",
       "      <td>...</td>\n",
       "    </tr>\n",
       "    <tr>\n",
       "      <th>2022-02-24</th>\n",
       "      <td>95.120003</td>\n",
       "      <td>101.489998</td>\n",
       "      <td>95.010002</td>\n",
       "      <td>101.059998</td>\n",
       "      <td>101.059998</td>\n",
       "      <td>694500</td>\n",
       "    </tr>\n",
       "    <tr>\n",
       "      <th>2022-02-25</th>\n",
       "      <td>99.570000</td>\n",
       "      <td>101.430000</td>\n",
       "      <td>97.370003</td>\n",
       "      <td>100.949997</td>\n",
       "      <td>100.949997</td>\n",
       "      <td>810300</td>\n",
       "    </tr>\n",
       "    <tr>\n",
       "      <th>2022-02-28</th>\n",
       "      <td>99.919998</td>\n",
       "      <td>100.629997</td>\n",
       "      <td>98.449997</td>\n",
       "      <td>98.870003</td>\n",
       "      <td>98.870003</td>\n",
       "      <td>1081900</td>\n",
       "    </tr>\n",
       "    <tr>\n",
       "      <th>2022-03-01</th>\n",
       "      <td>98.839996</td>\n",
       "      <td>99.639999</td>\n",
       "      <td>97.650002</td>\n",
       "      <td>98.019997</td>\n",
       "      <td>98.019997</td>\n",
       "      <td>497200</td>\n",
       "    </tr>\n",
       "    <tr>\n",
       "      <th>2022-03-02</th>\n",
       "      <td>98.129997</td>\n",
       "      <td>99.650002</td>\n",
       "      <td>98.019997</td>\n",
       "      <td>99.489998</td>\n",
       "      <td>99.489998</td>\n",
       "      <td>439000</td>\n",
       "    </tr>\n",
       "  </tbody>\n",
       "</table>\n",
       "<p>795 rows × 6 columns</p>\n",
       "</div>"
      ],
      "text/plain": [
       "                 Open        High        Low       Close   Adj Close   Volume\n",
       "Date                                                                         \n",
       "2019-01-02  60.970001   61.799999  60.450001   61.049999   57.818462   626700\n",
       "2019-01-03  60.770000   61.110001  60.369999   60.669998   57.458569   617800\n",
       "2019-01-04  60.930000   61.290001  60.509998   60.799999   57.581688   444100\n",
       "2019-01-07  61.000000   61.599998  60.470001   61.369999   58.121513   724700\n",
       "2019-01-08  61.549999   62.090000  61.310001   61.849998   58.576099   601100\n",
       "...               ...         ...        ...         ...         ...      ...\n",
       "2022-02-24  95.120003  101.489998  95.010002  101.059998  101.059998   694500\n",
       "2022-02-25  99.570000  101.430000  97.370003  100.949997  100.949997   810300\n",
       "2022-02-28  99.919998  100.629997  98.449997   98.870003   98.870003  1081900\n",
       "2022-03-01  98.839996   99.639999  97.650002   98.019997   98.019997   497200\n",
       "2022-03-02  98.129997   99.650002  98.019997   99.489998   99.489998   439000\n",
       "\n",
       "[795 rows x 6 columns]"
      ]
     },
     "execution_count": 4,
     "metadata": {},
     "output_type": "execute_result"
    }
   ],
   "source": [
    "# Review data\n",
    "stock_data"
   ]
  },
  {
   "cell_type": "code",
   "execution_count": 5,
   "metadata": {},
   "outputs": [
    {
     "data": {
      "text/html": [
       "<div>\n",
       "<style scoped>\n",
       "    .dataframe tbody tr th:only-of-type {\n",
       "        vertical-align: middle;\n",
       "    }\n",
       "\n",
       "    .dataframe tbody tr th {\n",
       "        vertical-align: top;\n",
       "    }\n",
       "\n",
       "    .dataframe thead th {\n",
       "        text-align: right;\n",
       "    }\n",
       "</style>\n",
       "<table border=\"1\" class=\"dataframe\">\n",
       "  <thead>\n",
       "    <tr style=\"text-align: right;\">\n",
       "      <th></th>\n",
       "      <th>Open</th>\n",
       "      <th>High</th>\n",
       "      <th>Low</th>\n",
       "      <th>Close</th>\n",
       "      <th>Adj Close</th>\n",
       "      <th>Volume</th>\n",
       "    </tr>\n",
       "    <tr>\n",
       "      <th>Date</th>\n",
       "      <th></th>\n",
       "      <th></th>\n",
       "      <th></th>\n",
       "      <th></th>\n",
       "      <th></th>\n",
       "      <th></th>\n",
       "    </tr>\n",
       "  </thead>\n",
       "  <tbody>\n",
       "    <tr>\n",
       "      <th>2019-01-02</th>\n",
       "      <td>60.970001</td>\n",
       "      <td>61.799999</td>\n",
       "      <td>60.450001</td>\n",
       "      <td>61.049999</td>\n",
       "      <td>57.818462</td>\n",
       "      <td>626700</td>\n",
       "    </tr>\n",
       "    <tr>\n",
       "      <th>2019-01-03</th>\n",
       "      <td>60.770000</td>\n",
       "      <td>61.110001</td>\n",
       "      <td>60.369999</td>\n",
       "      <td>60.669998</td>\n",
       "      <td>57.458569</td>\n",
       "      <td>617800</td>\n",
       "    </tr>\n",
       "    <tr>\n",
       "      <th>2019-01-04</th>\n",
       "      <td>60.930000</td>\n",
       "      <td>61.290001</td>\n",
       "      <td>60.509998</td>\n",
       "      <td>60.799999</td>\n",
       "      <td>57.581688</td>\n",
       "      <td>444100</td>\n",
       "    </tr>\n",
       "    <tr>\n",
       "      <th>2019-01-07</th>\n",
       "      <td>61.000000</td>\n",
       "      <td>61.599998</td>\n",
       "      <td>60.470001</td>\n",
       "      <td>61.369999</td>\n",
       "      <td>58.121513</td>\n",
       "      <td>724700</td>\n",
       "    </tr>\n",
       "    <tr>\n",
       "      <th>2019-01-08</th>\n",
       "      <td>61.549999</td>\n",
       "      <td>62.090000</td>\n",
       "      <td>61.310001</td>\n",
       "      <td>61.849998</td>\n",
       "      <td>58.576099</td>\n",
       "      <td>601100</td>\n",
       "    </tr>\n",
       "  </tbody>\n",
       "</table>\n",
       "</div>"
      ],
      "text/plain": [
       "                 Open       High        Low      Close  Adj Close  Volume\n",
       "Date                                                                     \n",
       "2019-01-02  60.970001  61.799999  60.450001  61.049999  57.818462  626700\n",
       "2019-01-03  60.770000  61.110001  60.369999  60.669998  57.458569  617800\n",
       "2019-01-04  60.930000  61.290001  60.509998  60.799999  57.581688  444100\n",
       "2019-01-07  61.000000  61.599998  60.470001  61.369999  58.121513  724700\n",
       "2019-01-08  61.549999  62.090000  61.310001  61.849998  58.576099  601100"
      ]
     },
     "execution_count": 5,
     "metadata": {},
     "output_type": "execute_result"
    }
   ],
   "source": [
    "# Select closing prices and volume only\n",
    "#price_and_volume = stock_data[[\"Close\", \"Volume\"]]\n",
    "price_and_volume = stock_data.copy()\n",
    "price_and_volume.head()"
   ]
  },
  {
   "cell_type": "code",
   "execution_count": 6,
   "metadata": {},
   "outputs": [
    {
     "data": {
      "text/html": [
       "<div>\n",
       "<style scoped>\n",
       "    .dataframe tbody tr th:only-of-type {\n",
       "        vertical-align: middle;\n",
       "    }\n",
       "\n",
       "    .dataframe tbody tr th {\n",
       "        vertical-align: top;\n",
       "    }\n",
       "\n",
       "    .dataframe thead th {\n",
       "        text-align: right;\n",
       "    }\n",
       "</style>\n",
       "<table border=\"1\" class=\"dataframe\">\n",
       "  <thead>\n",
       "    <tr style=\"text-align: right;\">\n",
       "      <th></th>\n",
       "      <th>Open</th>\n",
       "      <th>High</th>\n",
       "      <th>Low</th>\n",
       "      <th>Close</th>\n",
       "      <th>Adj Close</th>\n",
       "      <th>Volume</th>\n",
       "    </tr>\n",
       "    <tr>\n",
       "      <th>Date</th>\n",
       "      <th></th>\n",
       "      <th></th>\n",
       "      <th></th>\n",
       "      <th></th>\n",
       "      <th></th>\n",
       "      <th></th>\n",
       "    </tr>\n",
       "  </thead>\n",
       "  <tbody>\n",
       "    <tr>\n",
       "      <th>2022-02-24</th>\n",
       "      <td>95.120003</td>\n",
       "      <td>101.489998</td>\n",
       "      <td>95.010002</td>\n",
       "      <td>101.059998</td>\n",
       "      <td>101.059998</td>\n",
       "      <td>694500</td>\n",
       "    </tr>\n",
       "    <tr>\n",
       "      <th>2022-02-25</th>\n",
       "      <td>99.570000</td>\n",
       "      <td>101.430000</td>\n",
       "      <td>97.370003</td>\n",
       "      <td>100.949997</td>\n",
       "      <td>100.949997</td>\n",
       "      <td>810300</td>\n",
       "    </tr>\n",
       "    <tr>\n",
       "      <th>2022-02-28</th>\n",
       "      <td>99.919998</td>\n",
       "      <td>100.629997</td>\n",
       "      <td>98.449997</td>\n",
       "      <td>98.870003</td>\n",
       "      <td>98.870003</td>\n",
       "      <td>1081900</td>\n",
       "    </tr>\n",
       "    <tr>\n",
       "      <th>2022-03-01</th>\n",
       "      <td>98.839996</td>\n",
       "      <td>99.639999</td>\n",
       "      <td>97.650002</td>\n",
       "      <td>98.019997</td>\n",
       "      <td>98.019997</td>\n",
       "      <td>497200</td>\n",
       "    </tr>\n",
       "    <tr>\n",
       "      <th>2022-03-02</th>\n",
       "      <td>98.129997</td>\n",
       "      <td>99.650002</td>\n",
       "      <td>98.019997</td>\n",
       "      <td>99.489998</td>\n",
       "      <td>99.489998</td>\n",
       "      <td>439000</td>\n",
       "    </tr>\n",
       "  </tbody>\n",
       "</table>\n",
       "</div>"
      ],
      "text/plain": [
       "                 Open        High        Low       Close   Adj Close   Volume\n",
       "Date                                                                         \n",
       "2022-02-24  95.120003  101.489998  95.010002  101.059998  101.059998   694500\n",
       "2022-02-25  99.570000  101.430000  97.370003  100.949997  100.949997   810300\n",
       "2022-02-28  99.919998  100.629997  98.449997   98.870003   98.870003  1081900\n",
       "2022-03-01  98.839996   99.639999  97.650002   98.019997   98.019997   497200\n",
       "2022-03-02  98.129997   99.650002  98.019997   99.489998   99.489998   439000"
      ]
     },
     "execution_count": 6,
     "metadata": {},
     "output_type": "execute_result"
    }
   ],
   "source": [
    "price_and_volume.tail()"
   ]
  },
  {
   "cell_type": "code",
   "execution_count": 7,
   "metadata": {},
   "outputs": [
    {
     "data": {
      "text/plain": [
       "Open         0\n",
       "High         0\n",
       "Low          0\n",
       "Close        0\n",
       "Adj Close    0\n",
       "Volume       0\n",
       "dtype: int64"
      ]
     },
     "execution_count": 7,
     "metadata": {},
     "output_type": "execute_result"
    }
   ],
   "source": [
    "# Count nulls. If there are any nulls, drop them.\n",
    "price_and_volume.isnull().sum()"
   ]
  },
  {
   "cell_type": "code",
   "execution_count": 8,
   "metadata": {},
   "outputs": [],
   "source": [
    "# Drop the nulls.\n",
    "price_and_volume = price_and_volume.dropna()"
   ]
  },
  {
   "cell_type": "code",
   "execution_count": 9,
   "metadata": {},
   "outputs": [
    {
     "data": {
      "text/plain": [
       "Open         0\n",
       "High         0\n",
       "Low          0\n",
       "Close        0\n",
       "Adj Close    0\n",
       "Volume       0\n",
       "dtype: int64"
      ]
     },
     "execution_count": 9,
     "metadata": {},
     "output_type": "execute_result"
    }
   ],
   "source": [
    "# Check that nulls were successfully dropped.\n",
    "price_and_volume.isnull().sum()"
   ]
  },
  {
   "cell_type": "code",
   "execution_count": 10,
   "metadata": {},
   "outputs": [
    {
     "data": {
      "text/plain": [
       "0"
      ]
     },
     "execution_count": 10,
     "metadata": {},
     "output_type": "execute_result"
    }
   ],
   "source": [
    "# Check for duplicates\n",
    "price_and_volume.duplicated().sum()"
   ]
  },
  {
   "cell_type": "code",
   "execution_count": 11,
   "metadata": {},
   "outputs": [],
   "source": [
    "# Rename Close and Volume to all lower case\n",
    "#price_and_volume.rename(columns= {\"Close\" : \"close\", \"Volume\" : \"volume\"}, inplace = True)"
   ]
  },
  {
   "cell_type": "code",
   "execution_count": 12,
   "metadata": {},
   "outputs": [
    {
     "data": {
      "text/html": [
       "<div>\n",
       "<style scoped>\n",
       "    .dataframe tbody tr th:only-of-type {\n",
       "        vertical-align: middle;\n",
       "    }\n",
       "\n",
       "    .dataframe tbody tr th {\n",
       "        vertical-align: top;\n",
       "    }\n",
       "\n",
       "    .dataframe thead th {\n",
       "        text-align: right;\n",
       "    }\n",
       "</style>\n",
       "<table border=\"1\" class=\"dataframe\">\n",
       "  <thead>\n",
       "    <tr style=\"text-align: right;\">\n",
       "      <th></th>\n",
       "      <th>Open</th>\n",
       "      <th>High</th>\n",
       "      <th>Low</th>\n",
       "      <th>Close</th>\n",
       "      <th>Adj Close</th>\n",
       "      <th>Volume</th>\n",
       "    </tr>\n",
       "  </thead>\n",
       "  <tbody>\n",
       "    <tr>\n",
       "      <th>count</th>\n",
       "      <td>795.000000</td>\n",
       "      <td>795.000000</td>\n",
       "      <td>795.000000</td>\n",
       "      <td>795.000000</td>\n",
       "      <td>795.000000</td>\n",
       "      <td>7.950000e+02</td>\n",
       "    </tr>\n",
       "    <tr>\n",
       "      <th>mean</th>\n",
       "      <td>73.436277</td>\n",
       "      <td>74.094855</td>\n",
       "      <td>72.900226</td>\n",
       "      <td>73.512113</td>\n",
       "      <td>71.706778</td>\n",
       "      <td>5.959356e+05</td>\n",
       "    </tr>\n",
       "    <tr>\n",
       "      <th>std</th>\n",
       "      <td>10.873257</td>\n",
       "      <td>11.006821</td>\n",
       "      <td>10.833702</td>\n",
       "      <td>10.941982</td>\n",
       "      <td>11.690114</td>\n",
       "      <td>3.470714e+05</td>\n",
       "    </tr>\n",
       "    <tr>\n",
       "      <th>min</th>\n",
       "      <td>60.009998</td>\n",
       "      <td>61.110001</td>\n",
       "      <td>59.009998</td>\n",
       "      <td>59.470001</td>\n",
       "      <td>57.458569</td>\n",
       "      <td>1.029000e+05</td>\n",
       "    </tr>\n",
       "    <tr>\n",
       "      <th>25%</th>\n",
       "      <td>66.760002</td>\n",
       "      <td>67.155003</td>\n",
       "      <td>66.204998</td>\n",
       "      <td>66.669998</td>\n",
       "      <td>64.315800</td>\n",
       "      <td>3.759000e+05</td>\n",
       "    </tr>\n",
       "    <tr>\n",
       "      <th>50%</th>\n",
       "      <td>69.529999</td>\n",
       "      <td>70.070000</td>\n",
       "      <td>69.089996</td>\n",
       "      <td>69.610001</td>\n",
       "      <td>67.332466</td>\n",
       "      <td>5.082000e+05</td>\n",
       "    </tr>\n",
       "    <tr>\n",
       "      <th>75%</th>\n",
       "      <td>74.880001</td>\n",
       "      <td>75.430000</td>\n",
       "      <td>74.345001</td>\n",
       "      <td>74.879997</td>\n",
       "      <td>72.794315</td>\n",
       "      <td>7.121500e+05</td>\n",
       "    </tr>\n",
       "    <tr>\n",
       "      <th>max</th>\n",
       "      <td>104.440002</td>\n",
       "      <td>105.150002</td>\n",
       "      <td>103.660004</td>\n",
       "      <td>104.419998</td>\n",
       "      <td>104.419998</td>\n",
       "      <td>3.783900e+06</td>\n",
       "    </tr>\n",
       "  </tbody>\n",
       "</table>\n",
       "</div>"
      ],
      "text/plain": [
       "             Open        High         Low       Close   Adj Close  \\\n",
       "count  795.000000  795.000000  795.000000  795.000000  795.000000   \n",
       "mean    73.436277   74.094855   72.900226   73.512113   71.706778   \n",
       "std     10.873257   11.006821   10.833702   10.941982   11.690114   \n",
       "min     60.009998   61.110001   59.009998   59.470001   57.458569   \n",
       "25%     66.760002   67.155003   66.204998   66.669998   64.315800   \n",
       "50%     69.529999   70.070000   69.089996   69.610001   67.332466   \n",
       "75%     74.880001   75.430000   74.345001   74.879997   72.794315   \n",
       "max    104.440002  105.150002  103.660004  104.419998  104.419998   \n",
       "\n",
       "             Volume  \n",
       "count  7.950000e+02  \n",
       "mean   5.959356e+05  \n",
       "std    3.470714e+05  \n",
       "min    1.029000e+05  \n",
       "25%    3.759000e+05  \n",
       "50%    5.082000e+05  \n",
       "75%    7.121500e+05  \n",
       "max    3.783900e+06  "
      ]
     },
     "execution_count": 12,
     "metadata": {},
     "output_type": "execute_result"
    }
   ],
   "source": [
    "# Describe data\n",
    "price_and_volume.describe()"
   ]
  },
  {
   "cell_type": "code",
   "execution_count": 13,
   "metadata": {},
   "outputs": [
    {
     "data": {
      "text/plain": [
       "Open         float64\n",
       "High         float64\n",
       "Low          float64\n",
       "Close        float64\n",
       "Adj Close    float64\n",
       "Volume         int64\n",
       "dtype: object"
      ]
     },
     "execution_count": 13,
     "metadata": {},
     "output_type": "execute_result"
    }
   ],
   "source": [
    "# Check if closing price and volume are floats \n",
    "price_and_volume.dtypes"
   ]
  },
  {
   "cell_type": "code",
   "execution_count": 14,
   "metadata": {},
   "outputs": [
    {
     "ename": "KeyError",
     "evalue": "'close'",
     "output_type": "error",
     "traceback": [
      "\u001b[1;31m---------------------------------------------------------------------------\u001b[0m",
      "\u001b[1;31mKeyError\u001b[0m                                  Traceback (most recent call last)",
      "\u001b[1;32m~\\anaconda3\\envs\\tf\\lib\\site-packages\\pandas\\core\\indexes\\base.py\u001b[0m in \u001b[0;36mget_loc\u001b[1;34m(self, key, method, tolerance)\u001b[0m\n\u001b[0;32m   3620\u001b[0m             \u001b[1;32mtry\u001b[0m\u001b[1;33m:\u001b[0m\u001b[1;33m\u001b[0m\u001b[1;33m\u001b[0m\u001b[0m\n\u001b[1;32m-> 3621\u001b[1;33m                 \u001b[1;32mreturn\u001b[0m \u001b[0mself\u001b[0m\u001b[1;33m.\u001b[0m\u001b[0m_engine\u001b[0m\u001b[1;33m.\u001b[0m\u001b[0mget_loc\u001b[0m\u001b[1;33m(\u001b[0m\u001b[0mcasted_key\u001b[0m\u001b[1;33m)\u001b[0m\u001b[1;33m\u001b[0m\u001b[1;33m\u001b[0m\u001b[0m\n\u001b[0m\u001b[0;32m   3622\u001b[0m             \u001b[1;32mexcept\u001b[0m \u001b[0mKeyError\u001b[0m \u001b[1;32mas\u001b[0m \u001b[0merr\u001b[0m\u001b[1;33m:\u001b[0m\u001b[1;33m\u001b[0m\u001b[1;33m\u001b[0m\u001b[0m\n",
      "\u001b[1;32m~\\anaconda3\\envs\\tf\\lib\\site-packages\\pandas\\_libs\\index.pyx\u001b[0m in \u001b[0;36mpandas._libs.index.IndexEngine.get_loc\u001b[1;34m()\u001b[0m\n",
      "\u001b[1;32m~\\anaconda3\\envs\\tf\\lib\\site-packages\\pandas\\_libs\\index.pyx\u001b[0m in \u001b[0;36mpandas._libs.index.IndexEngine.get_loc\u001b[1;34m()\u001b[0m\n",
      "\u001b[1;32mpandas\\_libs\\hashtable_class_helper.pxi\u001b[0m in \u001b[0;36mpandas._libs.hashtable.PyObjectHashTable.get_item\u001b[1;34m()\u001b[0m\n",
      "\u001b[1;32mpandas\\_libs\\hashtable_class_helper.pxi\u001b[0m in \u001b[0;36mpandas._libs.hashtable.PyObjectHashTable.get_item\u001b[1;34m()\u001b[0m\n",
      "\u001b[1;31mKeyError\u001b[0m: 'close'",
      "\nThe above exception was the direct cause of the following exception:\n",
      "\u001b[1;31mKeyError\u001b[0m                                  Traceback (most recent call last)",
      "\u001b[1;32m~\\AppData\\Local\\Temp/ipykernel_26248/1799259435.py\u001b[0m in \u001b[0;36m<module>\u001b[1;34m\u001b[0m\n\u001b[0;32m      1\u001b[0m \u001b[1;31m# Plot the closing prices\u001b[0m\u001b[1;33m\u001b[0m\u001b[1;33m\u001b[0m\u001b[0m\n\u001b[1;32m----> 2\u001b[1;33m \u001b[0mprice_and_volume\u001b[0m\u001b[1;33m[\u001b[0m\u001b[1;34m\"close\"\u001b[0m\u001b[1;33m]\u001b[0m\u001b[1;33m.\u001b[0m\u001b[0mplot\u001b[0m\u001b[1;33m(\u001b[0m\u001b[1;33m)\u001b[0m\u001b[1;33m\u001b[0m\u001b[1;33m\u001b[0m\u001b[0m\n\u001b[0m",
      "\u001b[1;32m~\\anaconda3\\envs\\tf\\lib\\site-packages\\pandas\\core\\frame.py\u001b[0m in \u001b[0;36m__getitem__\u001b[1;34m(self, key)\u001b[0m\n\u001b[0;32m   3503\u001b[0m             \u001b[1;32mif\u001b[0m \u001b[0mself\u001b[0m\u001b[1;33m.\u001b[0m\u001b[0mcolumns\u001b[0m\u001b[1;33m.\u001b[0m\u001b[0mnlevels\u001b[0m \u001b[1;33m>\u001b[0m \u001b[1;36m1\u001b[0m\u001b[1;33m:\u001b[0m\u001b[1;33m\u001b[0m\u001b[1;33m\u001b[0m\u001b[0m\n\u001b[0;32m   3504\u001b[0m                 \u001b[1;32mreturn\u001b[0m \u001b[0mself\u001b[0m\u001b[1;33m.\u001b[0m\u001b[0m_getitem_multilevel\u001b[0m\u001b[1;33m(\u001b[0m\u001b[0mkey\u001b[0m\u001b[1;33m)\u001b[0m\u001b[1;33m\u001b[0m\u001b[1;33m\u001b[0m\u001b[0m\n\u001b[1;32m-> 3505\u001b[1;33m             \u001b[0mindexer\u001b[0m \u001b[1;33m=\u001b[0m \u001b[0mself\u001b[0m\u001b[1;33m.\u001b[0m\u001b[0mcolumns\u001b[0m\u001b[1;33m.\u001b[0m\u001b[0mget_loc\u001b[0m\u001b[1;33m(\u001b[0m\u001b[0mkey\u001b[0m\u001b[1;33m)\u001b[0m\u001b[1;33m\u001b[0m\u001b[1;33m\u001b[0m\u001b[0m\n\u001b[0m\u001b[0;32m   3506\u001b[0m             \u001b[1;32mif\u001b[0m \u001b[0mis_integer\u001b[0m\u001b[1;33m(\u001b[0m\u001b[0mindexer\u001b[0m\u001b[1;33m)\u001b[0m\u001b[1;33m:\u001b[0m\u001b[1;33m\u001b[0m\u001b[1;33m\u001b[0m\u001b[0m\n\u001b[0;32m   3507\u001b[0m                 \u001b[0mindexer\u001b[0m \u001b[1;33m=\u001b[0m \u001b[1;33m[\u001b[0m\u001b[0mindexer\u001b[0m\u001b[1;33m]\u001b[0m\u001b[1;33m\u001b[0m\u001b[1;33m\u001b[0m\u001b[0m\n",
      "\u001b[1;32m~\\anaconda3\\envs\\tf\\lib\\site-packages\\pandas\\core\\indexes\\base.py\u001b[0m in \u001b[0;36mget_loc\u001b[1;34m(self, key, method, tolerance)\u001b[0m\n\u001b[0;32m   3621\u001b[0m                 \u001b[1;32mreturn\u001b[0m \u001b[0mself\u001b[0m\u001b[1;33m.\u001b[0m\u001b[0m_engine\u001b[0m\u001b[1;33m.\u001b[0m\u001b[0mget_loc\u001b[0m\u001b[1;33m(\u001b[0m\u001b[0mcasted_key\u001b[0m\u001b[1;33m)\u001b[0m\u001b[1;33m\u001b[0m\u001b[1;33m\u001b[0m\u001b[0m\n\u001b[0;32m   3622\u001b[0m             \u001b[1;32mexcept\u001b[0m \u001b[0mKeyError\u001b[0m \u001b[1;32mas\u001b[0m \u001b[0merr\u001b[0m\u001b[1;33m:\u001b[0m\u001b[1;33m\u001b[0m\u001b[1;33m\u001b[0m\u001b[0m\n\u001b[1;32m-> 3623\u001b[1;33m                 \u001b[1;32mraise\u001b[0m \u001b[0mKeyError\u001b[0m\u001b[1;33m(\u001b[0m\u001b[0mkey\u001b[0m\u001b[1;33m)\u001b[0m \u001b[1;32mfrom\u001b[0m \u001b[0merr\u001b[0m\u001b[1;33m\u001b[0m\u001b[1;33m\u001b[0m\u001b[0m\n\u001b[0m\u001b[0;32m   3624\u001b[0m             \u001b[1;32mexcept\u001b[0m \u001b[0mTypeError\u001b[0m\u001b[1;33m:\u001b[0m\u001b[1;33m\u001b[0m\u001b[1;33m\u001b[0m\u001b[0m\n\u001b[0;32m   3625\u001b[0m                 \u001b[1;31m# If we have a listlike key, _check_indexing_error will raise\u001b[0m\u001b[1;33m\u001b[0m\u001b[1;33m\u001b[0m\u001b[0m\n",
      "\u001b[1;31mKeyError\u001b[0m: 'close'"
     ]
    }
   ],
   "source": [
    "# Plot the closing prices\n",
    "price_and_volume[\"close\"].plot()"
   ]
  },
  {
   "cell_type": "code",
   "execution_count": null,
   "metadata": {},
   "outputs": [],
   "source": [
    "# Save to CSV\n",
    "file_path = Path(\"Resources/shop.csv\")\n",
    "price_and_volume.to_csv(file_path, index=True, encoding='utf-8-sig')"
   ]
  }
 ],
 "metadata": {
  "interpreter": {
   "hash": "97f5aa433e63ed1822a0161c5cdd54fdca0afa410657fc4f5724696a25f279f9"
  },
  "kernelspec": {
   "display_name": "Python 3.7.10 ('dev')",
   "language": "python",
   "name": "python3"
  },
  "language_info": {
   "codemirror_mode": {
    "name": "ipython",
    "version": 3
   },
   "file_extension": ".py",
   "mimetype": "text/x-python",
   "name": "python",
   "nbconvert_exporter": "python",
   "pygments_lexer": "ipython3",
   "version": "3.10.0"
  },
  "orig_nbformat": 4
 },
 "nbformat": 4,
 "nbformat_minor": 2
}
