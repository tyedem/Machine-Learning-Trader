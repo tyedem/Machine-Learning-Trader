{
 "cells": [
  {
   "cell_type": "code",
   "execution_count": 45,
   "metadata": {},
   "outputs": [],
   "source": [
    "# Import all libraries and dependencies\n",
    "\n",
    "import datetime\n",
    "import pandas as pd\n",
    "import yfinance as yf\n",
    "from path import Path"
   ]
  },
  {
   "cell_type": "code",
   "execution_count": 46,
   "metadata": {},
   "outputs": [],
   "source": [
    "#Define the tickers to download data of the stocks.\n",
    "tickers = [\"TRI.TO\"]\n",
    "\n",
    "# Fetch tickers data from 1/1/2019 until 3/3/2022.\n",
    "start_date = datetime.date(2019,1,1)\n",
    "end_date = datetime.date(2022,3,3)\n",
    "interval = '1d'\n",
    "period = round((end_date - start_date).days/365,0)\n",
    "if interval == \"1d\":\n",
    "    annual_interval = 252"
   ]
  },
  {
   "cell_type": "code",
   "execution_count": 47,
   "metadata": {},
   "outputs": [
    {
     "name": "stdout",
     "output_type": "stream",
     "text": [
      "[*********************100%***********************]  1 of 1 completed\n"
     ]
    },
    {
     "data": {
      "text/plain": [
       "pandas.core.frame.DataFrame"
      ]
     },
     "execution_count": 47,
     "metadata": {},
     "output_type": "execute_result"
    }
   ],
   "source": [
    "# Use yfinance to download the data\n",
    "yf.Tickers(tickers)\n",
    "stock_data = yf.download(tickers, start = start_date, end = end_date, interval = interval)\n",
    "\n",
    "# Check the data type\n",
    "type(stock_data)"
   ]
  },
  {
   "cell_type": "code",
   "execution_count": 48,
   "metadata": {},
   "outputs": [
    {
     "data": {
      "text/html": [
       "<div>\n",
       "<style scoped>\n",
       "    .dataframe tbody tr th:only-of-type {\n",
       "        vertical-align: middle;\n",
       "    }\n",
       "\n",
       "    .dataframe tbody tr th {\n",
       "        vertical-align: top;\n",
       "    }\n",
       "\n",
       "    .dataframe thead th {\n",
       "        text-align: right;\n",
       "    }\n",
       "</style>\n",
       "<table border=\"1\" class=\"dataframe\">\n",
       "  <thead>\n",
       "    <tr style=\"text-align: right;\">\n",
       "      <th></th>\n",
       "      <th>Open</th>\n",
       "      <th>High</th>\n",
       "      <th>Low</th>\n",
       "      <th>Close</th>\n",
       "      <th>Adj Close</th>\n",
       "      <th>Volume</th>\n",
       "    </tr>\n",
       "    <tr>\n",
       "      <th>Date</th>\n",
       "      <th></th>\n",
       "      <th></th>\n",
       "      <th></th>\n",
       "      <th></th>\n",
       "      <th></th>\n",
       "      <th></th>\n",
       "    </tr>\n",
       "  </thead>\n",
       "  <tbody>\n",
       "    <tr>\n",
       "      <th>2019-01-02</th>\n",
       "      <td>65.730003</td>\n",
       "      <td>65.730003</td>\n",
       "      <td>64.250000</td>\n",
       "      <td>64.599998</td>\n",
       "      <td>61.395039</td>\n",
       "      <td>1058300</td>\n",
       "    </tr>\n",
       "    <tr>\n",
       "      <th>2019-01-03</th>\n",
       "      <td>64.389999</td>\n",
       "      <td>64.599998</td>\n",
       "      <td>63.139999</td>\n",
       "      <td>63.230000</td>\n",
       "      <td>60.093006</td>\n",
       "      <td>870000</td>\n",
       "    </tr>\n",
       "    <tr>\n",
       "      <th>2019-01-04</th>\n",
       "      <td>63.599998</td>\n",
       "      <td>64.050003</td>\n",
       "      <td>63.419998</td>\n",
       "      <td>63.720001</td>\n",
       "      <td>60.558701</td>\n",
       "      <td>791600</td>\n",
       "    </tr>\n",
       "    <tr>\n",
       "      <th>2019-01-07</th>\n",
       "      <td>63.680000</td>\n",
       "      <td>63.709999</td>\n",
       "      <td>62.919998</td>\n",
       "      <td>63.139999</td>\n",
       "      <td>60.007481</td>\n",
       "      <td>854000</td>\n",
       "    </tr>\n",
       "    <tr>\n",
       "      <th>2019-01-08</th>\n",
       "      <td>63.439999</td>\n",
       "      <td>64.139999</td>\n",
       "      <td>62.950001</td>\n",
       "      <td>63.189999</td>\n",
       "      <td>60.055000</td>\n",
       "      <td>1162800</td>\n",
       "    </tr>\n",
       "    <tr>\n",
       "      <th>...</th>\n",
       "      <td>...</td>\n",
       "      <td>...</td>\n",
       "      <td>...</td>\n",
       "      <td>...</td>\n",
       "      <td>...</td>\n",
       "      <td>...</td>\n",
       "    </tr>\n",
       "    <tr>\n",
       "      <th>2022-02-24</th>\n",
       "      <td>123.709999</td>\n",
       "      <td>128.750000</td>\n",
       "      <td>123.080002</td>\n",
       "      <td>128.559998</td>\n",
       "      <td>128.559998</td>\n",
       "      <td>822800</td>\n",
       "    </tr>\n",
       "    <tr>\n",
       "      <th>2022-02-25</th>\n",
       "      <td>129.009995</td>\n",
       "      <td>129.210007</td>\n",
       "      <td>127.110001</td>\n",
       "      <td>128.440002</td>\n",
       "      <td>128.440002</td>\n",
       "      <td>288000</td>\n",
       "    </tr>\n",
       "    <tr>\n",
       "      <th>2022-02-28</th>\n",
       "      <td>127.610001</td>\n",
       "      <td>128.360001</td>\n",
       "      <td>126.620003</td>\n",
       "      <td>128.160004</td>\n",
       "      <td>128.160004</td>\n",
       "      <td>716100</td>\n",
       "    </tr>\n",
       "    <tr>\n",
       "      <th>2022-03-01</th>\n",
       "      <td>128.100006</td>\n",
       "      <td>130.229996</td>\n",
       "      <td>128.039993</td>\n",
       "      <td>129.940002</td>\n",
       "      <td>129.940002</td>\n",
       "      <td>389300</td>\n",
       "    </tr>\n",
       "    <tr>\n",
       "      <th>2022-03-02</th>\n",
       "      <td>130.179993</td>\n",
       "      <td>131.690002</td>\n",
       "      <td>129.250000</td>\n",
       "      <td>131.190002</td>\n",
       "      <td>131.190002</td>\n",
       "      <td>391300</td>\n",
       "    </tr>\n",
       "  </tbody>\n",
       "</table>\n",
       "<p>795 rows × 6 columns</p>\n",
       "</div>"
      ],
      "text/plain": [
       "                  Open        High         Low       Close   Adj Close  \\\n",
       "Date                                                                     \n",
       "2019-01-02   65.730003   65.730003   64.250000   64.599998   61.395039   \n",
       "2019-01-03   64.389999   64.599998   63.139999   63.230000   60.093006   \n",
       "2019-01-04   63.599998   64.050003   63.419998   63.720001   60.558701   \n",
       "2019-01-07   63.680000   63.709999   62.919998   63.139999   60.007481   \n",
       "2019-01-08   63.439999   64.139999   62.950001   63.189999   60.055000   \n",
       "...                ...         ...         ...         ...         ...   \n",
       "2022-02-24  123.709999  128.750000  123.080002  128.559998  128.559998   \n",
       "2022-02-25  129.009995  129.210007  127.110001  128.440002  128.440002   \n",
       "2022-02-28  127.610001  128.360001  126.620003  128.160004  128.160004   \n",
       "2022-03-01  128.100006  130.229996  128.039993  129.940002  129.940002   \n",
       "2022-03-02  130.179993  131.690002  129.250000  131.190002  131.190002   \n",
       "\n",
       "             Volume  \n",
       "Date                 \n",
       "2019-01-02  1058300  \n",
       "2019-01-03   870000  \n",
       "2019-01-04   791600  \n",
       "2019-01-07   854000  \n",
       "2019-01-08  1162800  \n",
       "...             ...  \n",
       "2022-02-24   822800  \n",
       "2022-02-25   288000  \n",
       "2022-02-28   716100  \n",
       "2022-03-01   389300  \n",
       "2022-03-02   391300  \n",
       "\n",
       "[795 rows x 6 columns]"
      ]
     },
     "execution_count": 48,
     "metadata": {},
     "output_type": "execute_result"
    }
   ],
   "source": [
    "# Review data\n",
    "stock_data"
   ]
  },
  {
   "cell_type": "code",
   "execution_count": 49,
   "metadata": {},
   "outputs": [
    {
     "data": {
      "text/plain": [
       "Open         0\n",
       "High         0\n",
       "Low          0\n",
       "Close        0\n",
       "Adj Close    0\n",
       "Volume       0\n",
       "dtype: int64"
      ]
     },
     "execution_count": 49,
     "metadata": {},
     "output_type": "execute_result"
    }
   ],
   "source": [
    "# Count nulls. If there are any nulls, drop them.\n",
    "stock_data.isnull().sum()"
   ]
  },
  {
   "cell_type": "code",
   "execution_count": 50,
   "metadata": {},
   "outputs": [],
   "source": [
    "# Drop the nulls.\n",
    "stock_data = stock_data.dropna()"
   ]
  },
  {
   "cell_type": "code",
   "execution_count": 51,
   "metadata": {},
   "outputs": [
    {
     "data": {
      "text/plain": [
       "Open         0\n",
       "High         0\n",
       "Low          0\n",
       "Close        0\n",
       "Adj Close    0\n",
       "Volume       0\n",
       "dtype: int64"
      ]
     },
     "execution_count": 51,
     "metadata": {},
     "output_type": "execute_result"
    }
   ],
   "source": [
    "# Check that nulls were successfully dropped.\n",
    "stock_data.isnull().sum()"
   ]
  },
  {
   "cell_type": "code",
   "execution_count": 52,
   "metadata": {},
   "outputs": [
    {
     "data": {
      "text/plain": [
       "0"
      ]
     },
     "execution_count": 52,
     "metadata": {},
     "output_type": "execute_result"
    }
   ],
   "source": [
    "# Check for duplicates\n",
    "stock_data.duplicated().sum()"
   ]
  },
  {
   "cell_type": "code",
   "execution_count": 53,
   "metadata": {},
   "outputs": [
    {
     "data": {
      "text/html": [
       "<div>\n",
       "<style scoped>\n",
       "    .dataframe tbody tr th:only-of-type {\n",
       "        vertical-align: middle;\n",
       "    }\n",
       "\n",
       "    .dataframe tbody tr th {\n",
       "        vertical-align: top;\n",
       "    }\n",
       "\n",
       "    .dataframe thead th {\n",
       "        text-align: right;\n",
       "    }\n",
       "</style>\n",
       "<table border=\"1\" class=\"dataframe\">\n",
       "  <thead>\n",
       "    <tr style=\"text-align: right;\">\n",
       "      <th></th>\n",
       "      <th>Open</th>\n",
       "      <th>High</th>\n",
       "      <th>Low</th>\n",
       "      <th>Close</th>\n",
       "      <th>Adj Close</th>\n",
       "      <th>Volume</th>\n",
       "    </tr>\n",
       "  </thead>\n",
       "  <tbody>\n",
       "    <tr>\n",
       "      <th>count</th>\n",
       "      <td>795.000000</td>\n",
       "      <td>795.000000</td>\n",
       "      <td>795.000000</td>\n",
       "      <td>795.000000</td>\n",
       "      <td>795.000000</td>\n",
       "      <td>7.950000e+02</td>\n",
       "    </tr>\n",
       "    <tr>\n",
       "      <th>mean</th>\n",
       "      <td>105.340352</td>\n",
       "      <td>106.233094</td>\n",
       "      <td>104.501572</td>\n",
       "      <td>105.401773</td>\n",
       "      <td>102.728091</td>\n",
       "      <td>4.809361e+05</td>\n",
       "    </tr>\n",
       "    <tr>\n",
       "      <th>std</th>\n",
       "      <td>22.510105</td>\n",
       "      <td>22.622474</td>\n",
       "      <td>22.369329</td>\n",
       "      <td>22.459708</td>\n",
       "      <td>23.477793</td>\n",
       "      <td>2.907294e+05</td>\n",
       "    </tr>\n",
       "    <tr>\n",
       "      <th>min</th>\n",
       "      <td>63.230000</td>\n",
       "      <td>63.709999</td>\n",
       "      <td>62.919998</td>\n",
       "      <td>63.139999</td>\n",
       "      <td>60.007481</td>\n",
       "      <td>4.660000e+04</td>\n",
       "    </tr>\n",
       "    <tr>\n",
       "      <th>25%</th>\n",
       "      <td>89.270000</td>\n",
       "      <td>89.935001</td>\n",
       "      <td>88.344997</td>\n",
       "      <td>89.375000</td>\n",
       "      <td>85.196609</td>\n",
       "      <td>3.073500e+05</td>\n",
       "    </tr>\n",
       "    <tr>\n",
       "      <th>50%</th>\n",
       "      <td>101.790001</td>\n",
       "      <td>102.559998</td>\n",
       "      <td>101.070000</td>\n",
       "      <td>101.739998</td>\n",
       "      <td>99.028168</td>\n",
       "      <td>4.042000e+05</td>\n",
       "    </tr>\n",
       "    <tr>\n",
       "      <th>75%</th>\n",
       "      <td>115.829998</td>\n",
       "      <td>116.799999</td>\n",
       "      <td>114.945000</td>\n",
       "      <td>116.435001</td>\n",
       "      <td>114.627831</td>\n",
       "      <td>5.664000e+05</td>\n",
       "    </tr>\n",
       "    <tr>\n",
       "      <th>max</th>\n",
       "      <td>156.440002</td>\n",
       "      <td>156.619995</td>\n",
       "      <td>154.250000</td>\n",
       "      <td>156.009995</td>\n",
       "      <td>155.310867</td>\n",
       "      <td>3.020100e+06</td>\n",
       "    </tr>\n",
       "  </tbody>\n",
       "</table>\n",
       "</div>"
      ],
      "text/plain": [
       "             Open        High         Low       Close   Adj Close  \\\n",
       "count  795.000000  795.000000  795.000000  795.000000  795.000000   \n",
       "mean   105.340352  106.233094  104.501572  105.401773  102.728091   \n",
       "std     22.510105   22.622474   22.369329   22.459708   23.477793   \n",
       "min     63.230000   63.709999   62.919998   63.139999   60.007481   \n",
       "25%     89.270000   89.935001   88.344997   89.375000   85.196609   \n",
       "50%    101.790001  102.559998  101.070000  101.739998   99.028168   \n",
       "75%    115.829998  116.799999  114.945000  116.435001  114.627831   \n",
       "max    156.440002  156.619995  154.250000  156.009995  155.310867   \n",
       "\n",
       "             Volume  \n",
       "count  7.950000e+02  \n",
       "mean   4.809361e+05  \n",
       "std    2.907294e+05  \n",
       "min    4.660000e+04  \n",
       "25%    3.073500e+05  \n",
       "50%    4.042000e+05  \n",
       "75%    5.664000e+05  \n",
       "max    3.020100e+06  "
      ]
     },
     "execution_count": 53,
     "metadata": {},
     "output_type": "execute_result"
    }
   ],
   "source": [
    "# Describe data\n",
    "stock_data.describe()"
   ]
  },
  {
   "cell_type": "code",
   "execution_count": 54,
   "metadata": {},
   "outputs": [
    {
     "data": {
      "text/plain": [
       "Open         float64\n",
       "High         float64\n",
       "Low          float64\n",
       "Close        float64\n",
       "Adj Close    float64\n",
       "Volume         int64\n",
       "dtype: object"
      ]
     },
     "execution_count": 54,
     "metadata": {},
     "output_type": "execute_result"
    }
   ],
   "source": [
    "# Check if column data is float and int\n",
    "stock_data.dtypes"
   ]
  },
  {
   "cell_type": "code",
   "execution_count": 55,
   "metadata": {},
   "outputs": [],
   "source": [
    "# Save to CSV\n",
    "file_path = Path(\"Resources/tri.csv\")\n",
    "stock_data.to_csv(file_path, index=True, encoding='utf-8-sig')"
   ]
  }
 ],
 "metadata": {
  "interpreter": {
   "hash": "97f5aa433e63ed1822a0161c5cdd54fdca0afa410657fc4f5724696a25f279f9"
  },
  "kernelspec": {
   "display_name": "Python 3.7.10 ('dev')",
   "language": "python",
   "name": "python3"
  },
  "language_info": {
   "codemirror_mode": {
    "name": "ipython",
    "version": 3
   },
   "file_extension": ".py",
   "mimetype": "text/x-python",
   "name": "python",
   "nbconvert_exporter": "python",
   "pygments_lexer": "ipython3",
   "version": "3.7.11"
  },
  "orig_nbformat": 4
 },
 "nbformat": 4,
 "nbformat_minor": 2
}
