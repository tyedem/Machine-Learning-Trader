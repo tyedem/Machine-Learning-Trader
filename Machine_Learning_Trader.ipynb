{
 "cells": [
  {
   "cell_type": "markdown",
   "metadata": {},
   "source": [
    "# Machine Learning Trading Bot"
   ]
  },
  {
   "cell_type": "code",
   "execution_count": null,
   "metadata": {},
   "outputs": [],
   "source": [
    "# Import libraries\n",
    "import pandas as pd\n",
    "import numpy as np\n",
    "from pathlib import Path\n",
    "import hvplot.pandas\n",
    "import matplotlib.pyplot as plt\n",
    "from sklearn import svm\n",
    "from sklearn.preprocessing import StandardScaler\n",
    "from pandas.tseries.offsets import DateOffset\n",
    "from sklearn.metrics import classification_report\n",
    "from finta import TA"
   ]
  },
  {
   "cell_type": "markdown",
   "metadata": {},
   "source": [
    "# Import CSV file and create pandas DataFrame"
   ]
  },
  {
   "cell_type": "code",
   "execution_count": null,
   "metadata": {},
   "outputs": [],
   "source": [
    "# Import stocks dataset\n",
    "stocks_df = pd.read_csv(\n",
    "    Path('../Resources/[insert_title].csv'),\n",
    "    index_col= 'date',\n",
    "    parse_dates = True,\n",
    "    infer_datetime_format=True\n",
    ")\n",
    "\n",
    "# Review the DataFrame\n",
    "stocks_df.head()"
   ]
  },
  {
   "cell_type": "code",
   "execution_count": null,
   "metadata": {},
   "outputs": [],
   "source": [
    "#Filter the date index and close columns\n",
    "signals_df = stocks_df.loc[:, ['close']]\n",
    "\n",
    "# Use pct_change function to generate returns from close prices\n",
    "signals_df['Actual Returns'] = signals_df['close'].pct_change()\n",
    "\n",
    "#Drop all NaN values from the DataFrame\n",
    "signals_df = signals_df.dropna()\n",
    "\n",
    "#Review the DataFrame\n",
    "display(signals_df.head())\n",
    "display(signals_df.tail())"
   ]
  },
  {
   "cell_type": "markdown",
   "metadata": {},
   "source": [
    "# Create a trading algorithm using technical indicators"
   ]
  },
  {
   "cell_type": "markdown",
   "metadata": {},
   "source": [
    "## Generate Signals - Example using SMA with short and long window"
   ]
  },
  {
   "cell_type": "code",
   "execution_count": null,
   "metadata": {},
   "outputs": [],
   "source": [
    "# Create SMA signals DataFrame\n",
    "sma_signals_df = stocks_df.loc[:, [\"close\"]].copy()\n",
    "\n",
    "# Set the short and long windows\n",
    "short_window = 50\n",
    "long_window = 100\n",
    "\n",
    "# Create a short window SMA and long window SMA\n",
    "sma_signals_df['SMA_Fast'] = signals_df['close'].rolling(window=short_window).mean()\n",
    "sma_signals_df['SMA_Slow'] = signals_df['close'].rolling(window=long_window).mean()\n",
    "\n",
    "sma_signals_df = sma_signals_df.dropna()\n",
    "\n",
    "# Review the DataFrame\n",
    "display(sma_signals_df.head())\n",
    "display(sma_signals_df.tail())"
   ]
  },
  {
   "cell_type": "code",
   "execution_count": null,
   "metadata": {},
   "outputs": [],
   "source": [
    "# Initialize the new Signal column\n",
    "sma_signals_df['Signal'] = 0.0\n",
    "\n",
    "# When Actual Returns are greater than or equal to 0, generate signal to buy stock long\n",
    "sma_signals_df.loc[(signals_df['Actual Returns'] >= 0), 'Signal'] = 1.0\n",
    "\n",
    "# When Actual Returns are less than 0, generate signal to sell stock short\n",
    "sma_signals_df.loc[(signals_df['Actual Returns'] < 0), 'Signal'] = 0.0\n",
    "\n",
    "# Review the DataFrame\n",
    "display(sma_signals_df.head())\n",
    "display(sma_signals_df.tail())"
   ]
  },
  {
   "cell_type": "code",
   "execution_count": null,
   "metadata": {},
   "outputs": [],
   "source": [
    "# Review value counts\n",
    "sma_signals_df['Signal'].value_counts()"
   ]
  },
  {
   "cell_type": "code",
   "execution_count": null,
   "metadata": {},
   "outputs": [],
   "source": [
    "# Visualize close price for the investment\n",
    "stocks_close = signals_df[[\"close\"]].hvplot(\n",
    "    line_color='lightgray',\n",
    "    ylabel='Price in $',\n",
    "    width=1000,\n",
    "    height=400\n",
    ")\n",
    "\n",
    "# Visualize moving averages\n",
    "moving_avgs = signals_df[[\"SMA_Fast\", \"SMA_Slow\"]].hvplot(\n",
    "    ylabel='Price in $',\n",
    "    width=1000,\n",
    "    height=400\n",
    ")\n",
    "\n",
    "# Overlay plots\n",
    "sma_ema_plot = stocks_close * moving_avgs\n",
    "sma_ema_plot"
   ]
  },
  {
   "cell_type": "code",
   "execution_count": null,
   "metadata": {},
   "outputs": [],
   "source": [
    "# Calculate the strategy returns and add them to the signals_df DataFrame\n",
    "sma_signals_df['Strategy Returns'] = sma_signals_df['Actual Returns'] * sma_signals_df['Signal'].shift()\n",
    "\n",
    "# Review the DataFrame\n",
    "display(sma_signals_df.head())\n",
    "display(sma_signals_df.tail())"
   ]
  },
  {
   "cell_type": "code",
   "execution_count": null,
   "metadata": {},
   "outputs": [],
   "source": [
    "# Plot Strategy Returns to examine performance\n",
    "(1 + signals_df['Strategy Returns']).cumprod().hvplot(title='Strategy Returns')"
   ]
  },
  {
   "cell_type": "markdown",
   "metadata": {},
   "source": [
    "## Example using EMA technical indicators"
   ]
  },
  {
   "cell_type": "code",
   "execution_count": null,
   "metadata": {},
   "outputs": [],
   "source": [
    "# Create EMA signals DataFrame\n",
    "ema_signals_df = stocks_df.loc[:, [\"close\"]].copy()\n",
    "\n",
    "# Set the short window and long windows\n",
    "short_window = 50\n",
    "long_window = 100\n",
    "\n",
    "# Generate the short and long moving averages (50 and 100 days, respectively)\n",
    "ema_signals_df[\"EMA_Short\"] = signals_df[\"close\"].ewm(span=short_window).mean()\n",
    "ema_signals_df[\"EMA_Long\"] = signals_df[\"close\"].ewm(span=long_window).mean()\n",
    "\n",
    "# Review the DataFrame\n",
    "ema_signals_df.head()"
   ]
  },
  {
   "cell_type": "code",
   "execution_count": null,
   "metadata": {},
   "outputs": [],
   "source": [
    "# Set the signal column\n",
    "ema_signals_df['Signal'] = 0\n",
    "\n",
    "# Generate the trading signal 1 or 0\n",
    "# Where 1 is when the EMA50 is greater than (i.e. crosses over) the EMA100\n",
    "# Where 0 is when the EMA 50 is under the EMA100\n",
    "ema_signals_df['Signal'][short_window:] = np.where(\n",
    "    ema_signals_df['EMA50'][short_window:] > ema_signals_df['EMA100'][short_window:], 1.0, 0.0\n",
    ")\n",
    "\n",
    "# Calculate the points in time at which a position should be taken, 1 or 0\n",
    "ema_signals_df['Entry/Exit'] = ema_signals_df['Signal'].diff()\n",
    "\n",
    "# Review DataFrame\n",
    "ema_signals_df.head()"
   ]
  },
  {
   "cell_type": "code",
   "execution_count": null,
   "metadata": {},
   "outputs": [],
   "source": [
    "# Review value counts\n",
    "ema_signals_df['Signal'].value_counts()"
   ]
  },
  {
   "cell_type": "code",
   "execution_count": null,
   "metadata": {},
   "outputs": [],
   "source": [
    "# Visualize entry position relative to close price\n",
    "entry = ema_signals_df[ema_signals_df[\"Entry/Exit\"] == 1.0][\"close\"].hvplot.scatter(\n",
    "    color='purple',\n",
    "    marker='^',\n",
    "    size=200,\n",
    "    legend=False,\n",
    "    ylabel='Price in $',\n",
    "    width=1000,\n",
    "    height=400\n",
    ")\n",
    "\n",
    "# Visualize exit position relative to close price\n",
    "exit = ema_signals_df[ema_signals_df[\"Entry/Exit\"] == 0.0][\"close\"].hvplot.scatter(\n",
    "    color='orange',\n",
    "    marker='v',\n",
    "    size=200,\n",
    "    legend=False,\n",
    "    ylabel='Price in $',\n",
    "    width=1000,\n",
    "    height=400\n",
    ")\n",
    "\n",
    "# Visualize close price for the investment\n",
    "security_close = ema_signals_df[[\"close\"]].hvplot(\n",
    "    line_color='lightgray',\n",
    "    ylabel='Price in $',\n",
    "    width=1000,\n",
    "    height=400\n",
    ")\n",
    "\n",
    "# Visualize moving averages\n",
    "moving_avgs = ema_signals_df[[\"EMA50\", \"EMA100\"]].hvplot(\n",
    "    ylabel='Price in $',\n",
    "    width=1000,\n",
    "    height=400\n",
    ")\n",
    "\n",
    "# Overlay plots\n",
    "entry_exit_plot = security_close * moving_avgs * entry * exit\n",
    "entry_exit_plot\n"
   ]
  },
  {
   "cell_type": "code",
   "execution_count": null,
   "metadata": {},
   "outputs": [],
   "source": [
    "# Calculate the strategy returns and add them to the signals_df DataFrame\n",
    "ema_signals_df['Strategy Returns'] = ema_signals_df['Actual Returns'] * ema_signals_df['Signal'].shift()\n",
    "\n",
    "# Review the DataFrame\n",
    "display(ema_signals_df.head())\n",
    "display(ema_signals_df.tail())"
   ]
  },
  {
   "cell_type": "code",
   "execution_count": null,
   "metadata": {},
   "outputs": [],
   "source": [
    "# Plot Strategy Returns to examine performance\n",
    "(1 + signals_df['Strategy Returns']).cumprod().hvplot(title='Strategy Returns')"
   ]
  },
  {
   "cell_type": "markdown",
   "metadata": {},
   "source": [
    "# Example - Using Bollinger Bands"
   ]
  },
  {
   "cell_type": "code",
   "execution_count": null,
   "metadata": {},
   "outputs": [],
   "source": [
    "# Create Bollinger Bands signals DataFrame\n",
    "bb_stocks_df = TA.BBANDS(stocks_df)\n",
    "\n",
    "# Review DataFrame\n",
    "bb_stocks_df.head[17:25, :]"
   ]
  },
  {
   "cell_type": "code",
   "execution_count": null,
   "metadata": {},
   "outputs": [],
   "source": [
    "# Concatenate the Bollinger Bands to the stocks DataFrame\n",
    "bb_signals_df = pd.concat([stocks_df, bb_signals_df])\n",
    "\n",
    "# Review the DataFrame\n",
    "bb_signals_df[17:25, :]"
   ]
  },
  {
   "cell_type": "code",
   "execution_count": null,
   "metadata": {},
   "outputs": [],
   "source": [
    "# Visualize close price for stocks\n",
    "security_close = bb_signals_df[[\"close\"]].hvplot(\n",
    "    line_color=\"lightgray\",\n",
    "    ylabel=\"Price in $\",\n",
    "    width=1000,\n",
    "    height=400\n",
    ")\n",
    "\n",
    "bb_upper = bb_signals_df[[\"BB_UPPER\"]].hvplot(\n",
    "    line_color=\"purple\",\n",
    "    ylabel=\"Price in $\",\n",
    "    width=1000,\n",
    "    height=400\n",
    ")\n",
    "\n",
    "\n",
    "bb_middle = bb_signals_df[[\"BB_MIDDLE\"]].hvplot(\n",
    "    line_color=\"orange\",\n",
    "    ylabel=\"Price in $\",\n",
    "    width=1000,\n",
    "    height=400\n",
    ")\n",
    "\n",
    "bb_lower = bb_signals_df[[\"BB_LOWER\"]].hvplot(\n",
    "    line_color=\"blue\",\n",
    "    ylabel=\"Price in $\",\n",
    "    width=1000,\n",
    "    height=400\n",
    ")\n",
    "\n",
    "\n",
    "# Overlay plots\n",
    "bbands_plot = security_close * bb_upper * bb_middle * bb_lower\n",
    "bbands_plot"
   ]
  },
  {
   "cell_type": "markdown",
   "metadata": {},
   "source": [
    "# Create Trading Algorithm Using Bollinger Bands"
   ]
  },
  {
   "cell_type": "code",
   "execution_count": null,
   "metadata": {},
   "outputs": [],
   "source": [
    "# Create a Trading Algorithm Using Bollinger Bands\n",
    "# Set the Signal column\n",
    "bb_signals_df['Signal'] = 0.0\n",
    "\n",
    "# Generate the trading signals 1 (entry) or -1 (exit) for a long position trading algorithm\n",
    "# where 1 is when the Close price is less than the BB_LOWER window\n",
    "# where -1 is when the Close price is greater the the BB_UPPER window\n",
    "for index, row in bb_stocks_df.iterrows():\n",
    "    if row[\"close\"] < row[\"BB_LOWER\"]:\n",
    "        bb_stocks_df.loc[index, \"Signal\"] = 1.0\n",
    "    if row[\"close\"] > row[\"BB_UPPER\"]:\n",
    "        bb_stocks_df.loc[index,\"Signal\"] = 0.0\n",
    "\n",
    "# Review the DataFrame\n",
    "bb_stocks_df.tail()"
   ]
  },
  {
   "cell_type": "markdown",
   "metadata": {},
   "source": [
    "# Visualize Entry/Exit Positions using Bollinger Bands"
   ]
  },
  {
   "cell_type": "code",
   "execution_count": null,
   "metadata": {},
   "outputs": [],
   "source": [
    "# Visualize entry position relative to close price\n",
    "entry = bb_stocks_df[bb_signals_df[\"Signal\"] == 1.0][\"close\"].hvplot.scatter(\n",
    "    color=\"green\",\n",
    "    marker=\"^\",\n",
    "    size=200,\n",
    "    legend=False,\n",
    "    ylabel=\"Price in $\",\n",
    "    width=1000,\n",
    "    height=400\n",
    ")\n",
    "\n",
    "# Visualize exit position relative to close price\n",
    "exit = bb_stocks_df[bb_signals_df[\"Signal\"] == 0.0][\"close\"].hvplot.scatter(\n",
    "    color=\"red\",\n",
    "    marker=\"v\",\n",
    "    size=200,\n",
    "    legend=False,\n",
    "    ylabel=\"Price in $\",\n",
    "    width=1000,\n",
    "    height=400\n",
    ")\n",
    "\n",
    "# Visualize close price for the investment\n",
    "security_close = bb_signals_df[[\"close\"]].hvplot(\n",
    "    line_color=\"lightgray\",\n",
    "    ylabel=\"Price in $\",\n",
    "    width=1000,\n",
    "    height=400\n",
    ")\n",
    "\n",
    "bb_upper = bb_signals_df[[\"BB_UPPER\"]].hvplot(\n",
    "    line_color=\"purple\",\n",
    "    ylabel=\"Price in $\",\n",
    "    width=1000,\n",
    "    height=400\n",
    ")\n",
    "\n",
    "\n",
    "bb_middle = bb_signals_df[[\"BB_MIDDLE\"]].hvplot(\n",
    "    line_color=\"orange\",\n",
    "    ylabel=\"Price in $\",\n",
    "    width=1000,\n",
    "    height=400\n",
    ")\n",
    "\n",
    "bb_lower = bb_signals_df[[\"BB_LOWER\"]].hvplot(\n",
    "    line_color=\"blue\",\n",
    "    ylabel=\"Price in $\",\n",
    "    width=1000,\n",
    "    height=400\n",
    ")\n",
    "\n",
    "\n",
    "# Overlay plots\n",
    "bbands_plot = security_close * bb_upper * bb_middle * bb_lower * entry * exit\n",
    "bbands_plot"
   ]
  },
  {
   "cell_type": "code",
   "execution_count": null,
   "metadata": {},
   "outputs": [],
   "source": [
    "# Calculate the strategy returns and add them to the signals_df DataFrame\n",
    "bb_signals_df['Strategy Returns'] = bb_signals_df['Actual Returns'] * bb_signals_df['Signal'].shift()\n",
    "\n",
    "# Review the DataFrame\n",
    "display(bb_signals_df.head())\n",
    "display(bb_signals_df.tail())"
   ]
  },
  {
   "cell_type": "code",
   "execution_count": null,
   "metadata": {},
   "outputs": [],
   "source": [
    "# Plot Strategy Returns to examine performance\n",
    "(1 + bb_signals_df['Strategy Returns']).cumprod().hvplot(title='Strategy Returns'"
   ]
  },
  {
   "cell_type": "markdown",
   "metadata": {},
   "source": [
    "# Split Data into Training and Testing datasets"
   ]
  },
  {
   "cell_type": "code",
   "execution_count": null,
   "metadata": {},
   "outputs": [],
   "source": [
    "# Assign a copy of the sma_fast and sma_slow columns to a features DataFrame called X\n",
    "X = signals_df[['SMA_Fast', 'SMA_Slow']].shift().dropna().copy()\n",
    "\n",
    "# Review the DataFrame\n",
    "X.head()"
   ]
  },
  {
   "cell_type": "code",
   "execution_count": null,
   "metadata": {},
   "outputs": [],
   "source": [
    "# Create the target set selecting the Signal column and assiging it to y\n",
    "y = signals_df['Signal'].copy()\n",
    "\n",
    "# Review the value counts\n",
    "y.value_counts()"
   ]
  },
  {
   "cell_type": "code",
   "execution_count": null,
   "metadata": {},
   "outputs": [],
   "source": [
    "# Select the start of the training period\n",
    "training_begin = X.index.min()\n",
    "\n",
    "# Display the training begin date\n",
    "print(training_begin)"
   ]
  },
  {
   "cell_type": "code",
   "execution_count": null,
   "metadata": {},
   "outputs": [],
   "source": [
    "# Select the ending period for the training data with an offset of 3 months\n",
    "training_end = training_begin + DateOffset(months=48)\n",
    "# Display the training end date\n",
    "print(training_end)"
   ]
  },
  {
   "cell_type": "code",
   "execution_count": null,
   "metadata": {},
   "outputs": [],
   "source": [
    "# Generate the X_train and y_train DataFrames\n",
    "X_train = X.loc[training_begin:training_end]\n",
    "y_train = y.loc[training_begin:training_end]\n",
    "\n",
    "# Review the X_train DataFrame\n",
    "X_train.head()"
   ]
  },
  {
   "cell_type": "code",
   "execution_count": null,
   "metadata": {},
   "outputs": [],
   "source": [
    "# Generate the X_test and y_test DataFrames\n",
    "X_test = X.loc[training_end:]\n",
    "y_test = y.loc[training_end:]\n",
    "\n",
    "# Review the X_test DataFrame\n",
    "X_test.head()"
   ]
  },
  {
   "cell_type": "code",
   "execution_count": null,
   "metadata": {},
   "outputs": [],
   "source": [
    "# Scale the features DataFrames\n",
    "\n",
    "# Create a StandardScaler instance\n",
    "scaler = StandardScaler()\n",
    "\n",
    "# Apply the scaler model to fit the X-train data\n",
    "X_scaler = scaler.fit(X_train)\n",
    "\n",
    "# Transform the X_train and X_test DataFrames using the X_scaler\n",
    "X_train_scaled = X_scaler.transform(X_train)\n",
    "X_test_scaled = X_scaler.transform(X_test)"
   ]
  },
  {
   "cell_type": "code",
   "execution_count": null,
   "metadata": {},
   "outputs": [],
   "source": [
    "# From instantiate classifier model instance\n",
    "model = svm.SVC()\n",
    " \n",
    "# Fit the model to the data using the training data\n",
    "model = model.fit(X_train_scaled, y_train)\n",
    " \n",
    "# Use the testing data to make the model predictions\n",
    "predictions = model.predict(X_test_scaled)\n",
    "\n",
    "# Review the model's predicted values\n",
    "predictions[:10]"
   ]
  },
  {
   "cell_type": "code",
   "execution_count": null,
   "metadata": {},
   "outputs": [],
   "source": [
    "# Use a classification report to evaluate the model using the predictions and testing data\n",
    "testing_report = classification_report(y_test, predictions)\n",
    "\n",
    "# Print the classification report\n",
    "print(testing_report)"
   ]
  },
  {
   "cell_type": "code",
   "execution_count": null,
   "metadata": {},
   "outputs": [],
   "source": [
    "# Create a new empty predictions DataFrame:\n",
    "\n",
    "# Create a predictions DataFrame\n",
    "predictions_df = pd.DataFrame(index=X_test.index)\n",
    "\n",
    "# Add the SVM model predictions to the DataFrame\n",
    "predictions_df['Predicted'] = svm_pred\n",
    "\n",
    "# Add the actual returns to the DataFrame\n",
    "predictions_df['Actual Returns'] = signals_df['Actual Returns']\n",
    "\n",
    "# Add the strategy returns to the DataFrame\n",
    "predictions_df['Strategy Returns'] = signals_df['Strategy Returns']\n",
    "\n",
    "# Review the DataFrame\n",
    "display(predictions_df.head())\n",
    "display(predictions_df.tail())"
   ]
  },
  {
   "cell_type": "code",
   "execution_count": null,
   "metadata": {},
   "outputs": [],
   "source": [
    "# Plot the actual returns versus the strategy returns\n",
    "(1 + predictions_df[['Actual Returns', 'Strategy Returns']]).cumprod().hvplot(\n",
    "    title='[ML Model] Strategy Returns'\n",
    "    )"
   ]
  },
  {
   "cell_type": "markdown",
   "metadata": {},
   "source": [
    "# Tune the Baseline Trading Algorithm"
   ]
  },
  {
   "cell_type": "markdown",
   "metadata": {},
   "source": [
    "## Make Adjustments with parameters or with different model"
   ]
  },
  {
   "cell_type": "markdown",
   "metadata": {},
   "source": [
    "### Tuning options include tuning windows of SMA/EMA, adjusting train/test split, include/exclude indicators/signals"
   ]
  },
  {
   "cell_type": "markdown",
   "metadata": {},
   "source": [
    "# Evaluate a New Machine Learning Classifier and compare models"
   ]
  },
  {
   "cell_type": "markdown",
   "metadata": {},
   "source": [
    "# Import a new classifier from SKLearn\n",
    "from sklearn.ensemble import RandomForestClassifier\n",
    "\n",
    "# Initiate the model instance\n",
    "ml_model = RandomForestClassifier()"
   ]
  },
  {
   "cell_type": "code",
   "execution_count": null,
   "metadata": {},
   "outputs": [],
   "source": [
    "# Using the original training data as the baseline model, fit another model with the new classifier.\n",
    "# Fit the model using the training data\n",
    "ml_model.fit(X_train_scaled, y_train)\n",
    "\n",
    "# Use the testing dataset to generate the predictions for the new model\n",
    "ml_predictions = ml_model.predict(X_test_scaled)\n",
    "\n",
    "# Review the model's predicted values\n",
    "ml_predictions[:10]\n"
   ]
  },
  {
   "cell_type": "code",
   "execution_count": null,
   "metadata": {},
   "outputs": [],
   "source": [
    "# Use a classification report to evaluate the model using the predictions and testing data\n",
    "ml_testing_report = classification_report(y_test, ml_predictions)\n",
    "\n",
    "# Print the classification report\n",
    "print(ml_testing_report)"
   ]
  },
  {
   "cell_type": "code",
   "execution_count": null,
   "metadata": {},
   "outputs": [],
   "source": [
    "# Create a new empty predictions DataFrame:\n",
    "\n",
    "# Create a predictions DataFrame\n",
    "ml_predictions_df = pd.DataFrame(index=X_test.index)\n",
    "\n",
    "# Add the Logistic Regression model predictions to the DataFrame\n",
    "ml_predictions_df['Strategy Returns'] = ml_pred\n",
    "\n",
    "# Add the actual returns to the DataFrame\n",
    "ml_predictions_df['Actual Returns'] = signals_df['Actual Returns']\n",
    "\n",
    "# Add the strategy returns to the DataFrame\n",
    "ml_predictions_df['Trading Algorithm Returns'] = (\n",
    "    ml_predictions_df['Actual Returns'] * ml_predictions_df['Strategy Returns']\n",
    ")\n",
    "\n",
    "# Review the DataFrame\n",
    "display(ml_predictions_df.head())\n",
    "display(ml_predictions_df.tail())"
   ]
  },
  {
   "cell_type": "code",
   "execution_count": null,
   "metadata": {},
   "outputs": [],
   "source": [
    "# Plot the actual returns versus the strategy returns\n",
    "(1 + ml_predictions_df[['Actual Returns', 'Trading Algorithm Returns']]).cumprod().hvplot(\n",
    "    title='[ML Model] Strategy Returns'\n",
    "    )"
   ]
  }
 ],
 "metadata": {
  "interpreter": {
   "hash": "0bea09c37f0c2733e0c0a4c68d9ae77505d6c16f15dde306c84790fa4d0c9800"
  },
  "kernelspec": {
   "display_name": "Python 3.7.11 ('algotrading')",
   "language": "python",
   "name": "python3"
  },
  "language_info": {
   "name": "python",
   "version": "3.7.11"
  },
  "orig_nbformat": 4
 },
 "nbformat": 4,
 "nbformat_minor": 2
}
