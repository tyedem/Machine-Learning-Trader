{
 "cells": [
  {
   "cell_type": "code",
   "execution_count": 1,
   "metadata": {},
   "outputs": [
    {
     "name": "stderr",
     "output_type": "stream",
     "text": [
      "[nltk_data] Downloading package vader_lexicon to\n",
      "[nltk_data]     /Users/tyesondemets/nltk_data...\n",
      "[nltk_data]   Package vader_lexicon is already up-to-date!\n"
     ]
    }
   ],
   "source": [
    "#Import libraries\n",
    "import os\n",
    "import pandas as pd\n",
    "from dotenv import load_dotenv\n",
    "import nltk as nltk\n",
    "nltk.download('vader_lexicon')\n",
    "from nltk.sentiment.vader import SentimentIntensityAnalyzer\n",
    "analyzer = SentimentIntensityAnalyzer()\n",
    "from newsapi import NewsApiClient\n",
    "%matplotlib inline\n"
   ]
  },
  {
   "cell_type": "code",
   "execution_count": 2,
   "metadata": {},
   "outputs": [],
   "source": [
    "#Load environment variables and retrieve API keys\n",
    "load_dotenv()\n",
    "news_api_key = os.getenv(\"NEWS_API_KEY\")"
   ]
  },
  {
   "cell_type": "code",
   "execution_count": 3,
   "metadata": {},
   "outputs": [],
   "source": [
    "# Create newsapi client\n",
    "newsapi = NewsApiClient(api_key=news_api_key)"
   ]
  },
  {
   "cell_type": "code",
   "execution_count": 4,
   "metadata": {},
   "outputs": [
    {
     "data": {
      "text/plain": [
       "500"
      ]
     },
     "execution_count": 4,
     "metadata": {},
     "output_type": "execute_result"
    }
   ],
   "source": [
    "#Get AAPL news\n",
    "aapl_news = newsapi.get_everything(\n",
    "    q='aapl AND Apple AND stock',\n",
    "    language='en'\n",
    ")\n",
    "#Show totla number of neews\n",
    "aapl_news['totalResults']"
   ]
  },
  {
   "cell_type": "code",
   "execution_count": 8,
   "metadata": {},
   "outputs": [
    {
     "data": {
      "text/plain": [
       "373"
      ]
     },
     "execution_count": 8,
     "metadata": {},
     "output_type": "execute_result"
    }
   ],
   "source": [
    "#Get TSLA news\n",
    "tsla_news = newsapi.get_everything(\n",
    "    q='tsla AND Tesla AND stock',\n",
    "    language='en'\n",
    ")\n",
    "#Show totla number of neews\n",
    "tsla_news['totalResults']"
   ]
  },
  {
   "cell_type": "code",
   "execution_count": 9,
   "metadata": {},
   "outputs": [
    {
     "data": {
      "text/plain": [
       "0"
      ]
     },
     "execution_count": 9,
     "metadata": {},
     "output_type": "execute_result"
    }
   ],
   "source": [
    "#Get BMO news\n",
    "bmo_news = newsapi.get_everything(\n",
    "    q='bmo.to AND Bank of Montreal AND stock',\n",
    "    language='en'\n",
    ")\n",
    "#Show totla number of neews\n",
    "bmo_news['totalResults']"
   ]
  },
  {
   "cell_type": "code",
   "execution_count": 10,
   "metadata": {},
   "outputs": [
    {
     "data": {
      "text/plain": [
       "14"
      ]
     },
     "execution_count": 10,
     "metadata": {},
     "output_type": "execute_result"
    }
   ],
   "source": [
    "#Get TRI news\n",
    "tri_news = newsapi.get_everything(\n",
    "    q='tri AND Thomson Reuters AND stock',\n",
    "    language='en'\n",
    ")\n",
    "#Show totla number of neews\n",
    "tri_news['totalResults']"
   ]
  },
  {
   "cell_type": "code",
   "execution_count": 11,
   "metadata": {},
   "outputs": [
    {
     "data": {
      "text/plain": [
       "18"
      ]
     },
     "execution_count": 11,
     "metadata": {},
     "output_type": "execute_result"
    }
   ],
   "source": [
    "#Get GIL news\n",
    "gil_news = newsapi.get_everything(\n",
    "    q='gil AND Gildan Activewear AND stock',\n",
    "    language='en'\n",
    ")\n",
    "#Show totla number of neews\n",
    "gil_news['totalResults']"
   ]
  },
  {
   "cell_type": "code",
   "execution_count": 12,
   "metadata": {},
   "outputs": [
    {
     "data": {
      "text/plain": [
       "0"
      ]
     },
     "execution_count": 12,
     "metadata": {},
     "output_type": "execute_result"
    }
   ],
   "source": [
    "#Get WN.TO news\n",
    "win_news = newsapi.get_everything(\n",
    "    q='wn.to AND George Weston AND stock',\n",
    "    language='en'\n",
    ")\n",
    "#Show totla number of neews\n",
    "win_news['totalResults']"
   ]
  },
  {
   "cell_type": "code",
   "execution_count": 13,
   "metadata": {},
   "outputs": [
    {
     "data": {
      "text/plain": [
       "0"
      ]
     },
     "execution_count": 13,
     "metadata": {},
     "output_type": "execute_result"
    }
   ],
   "source": [
    "#Get LAC.TO news\n",
    "lac_news = newsapi.get_everything(\n",
    "    q='lac.to AND Lithium Americas AND stock',\n",
    "    language='en'\n",
    ")\n",
    "#Show totla number of neews\n",
    "lac_news['totalResults']"
   ]
  },
  {
   "cell_type": "code",
   "execution_count": 14,
   "metadata": {},
   "outputs": [
    {
     "data": {
      "text/plain": [
       "1"
      ]
     },
     "execution_count": 14,
     "metadata": {},
     "output_type": "execute_result"
    }
   ],
   "source": [
    "#Get CIX.TO news\n",
    "cix_news = newsapi.get_everything(\n",
    "    q='cix.to AND CI Financial AND stock',\n",
    "    language='en'\n",
    ")\n",
    "#Show totla number of neews\n",
    "cix_news['totalResults']"
   ]
  },
  {
   "cell_type": "code",
   "execution_count": 15,
   "metadata": {},
   "outputs": [
    {
     "data": {
      "text/plain": [
       "0"
      ]
     },
     "execution_count": 15,
     "metadata": {},
     "output_type": "execute_result"
    }
   ],
   "source": [
    "#Get SJR-B.TO news\n",
    "sjrb_news = newsapi.get_everything(\n",
    "    q='sjr-b.to AND Shaw Communications AND stock',\n",
    "    language='en'\n",
    ")\n",
    "#Show totla number of neews\n",
    "sjrb_news['totalResults']"
   ]
  },
  {
   "cell_type": "code",
   "execution_count": 16,
   "metadata": {},
   "outputs": [
    {
     "data": {
      "text/plain": [
       "1"
      ]
     },
     "execution_count": 16,
     "metadata": {},
     "output_type": "execute_result"
    }
   ],
   "source": [
    "#Get LTO.TO news\n",
    "lto_news = newsapi.get_everything(\n",
    "    q='l.to AND Loblaw Companies AND stock',\n",
    "    language='en'\n",
    ")\n",
    "#Show totla number of neews\n",
    "lto_news['totalResults']"
   ]
  },
  {
   "cell_type": "code",
   "execution_count": 17,
   "metadata": {},
   "outputs": [
    {
     "data": {
      "text/plain": [
       "0"
      ]
     },
     "execution_count": 17,
     "metadata": {},
     "output_type": "execute_result"
    }
   ],
   "source": [
    "#Get TOY.TO news\n",
    "toy_news = newsapi.get_everything(\n",
    "    q='toy.to AND Spin Master AND stock',\n",
    "    language='en'\n",
    ")\n",
    "#Show totla number of neews\n",
    "toy_news['totalResults']"
   ]
  },
  {
   "cell_type": "code",
   "execution_count": 5,
   "metadata": {},
   "outputs": [
    {
     "data": {
      "text/html": [
       "<div>\n",
       "<style scoped>\n",
       "    .dataframe tbody tr th:only-of-type {\n",
       "        vertical-align: middle;\n",
       "    }\n",
       "\n",
       "    .dataframe tbody tr th {\n",
       "        vertical-align: top;\n",
       "    }\n",
       "\n",
       "    .dataframe thead th {\n",
       "        text-align: right;\n",
       "    }\n",
       "</style>\n",
       "<table border=\"1\" class=\"dataframe\">\n",
       "  <thead>\n",
       "    <tr style=\"text-align: right;\">\n",
       "      <th></th>\n",
       "      <th>text</th>\n",
       "      <th>date</th>\n",
       "      <th>compound</th>\n",
       "      <th>positive</th>\n",
       "      <th>negative</th>\n",
       "      <th>neutral</th>\n",
       "    </tr>\n",
       "  </thead>\n",
       "  <tbody>\n",
       "    <tr>\n",
       "      <th>0</th>\n",
       "      <td>The iPhone maker once again flexed its financi...</td>\n",
       "      <td>2022-02-08T10:00:00Z</td>\n",
       "      <td>0.0000</td>\n",
       "      <td>0.000</td>\n",
       "      <td>0.0</td>\n",
       "      <td>1.000</td>\n",
       "    </tr>\n",
       "    <tr>\n",
       "      <th>1</th>\n",
       "      <td>COP, APA, and AAPL made it to the Zacks Rank #...</td>\n",
       "      <td>2022-02-10T12:36:00Z</td>\n",
       "      <td>0.3818</td>\n",
       "      <td>0.120</td>\n",
       "      <td>0.0</td>\n",
       "      <td>0.880</td>\n",
       "    </tr>\n",
       "    <tr>\n",
       "      <th>2</th>\n",
       "      <td>We have narrowed our search to five Nasdaq Com...</td>\n",
       "      <td>2022-02-16T12:19:00Z</td>\n",
       "      <td>0.3400</td>\n",
       "      <td>0.088</td>\n",
       "      <td>0.0</td>\n",
       "      <td>0.912</td>\n",
       "    </tr>\n",
       "    <tr>\n",
       "      <th>3</th>\n",
       "      <td>AAPL, TOL, and PFE made it to the Zacks Rank #...</td>\n",
       "      <td>2022-02-07T18:41:00Z</td>\n",
       "      <td>0.3818</td>\n",
       "      <td>0.120</td>\n",
       "      <td>0.0</td>\n",
       "      <td>0.880</td>\n",
       "    </tr>\n",
       "    <tr>\n",
       "      <th>4</th>\n",
       "      <td>We have narrowed our search to five U.S. corpo...</td>\n",
       "      <td>2022-02-14T11:38:00Z</td>\n",
       "      <td>0.5106</td>\n",
       "      <td>0.121</td>\n",
       "      <td>0.0</td>\n",
       "      <td>0.879</td>\n",
       "    </tr>\n",
       "  </tbody>\n",
       "</table>\n",
       "</div>"
      ],
      "text/plain": [
       "                                                text                  date  \\\n",
       "0  The iPhone maker once again flexed its financi...  2022-02-08T10:00:00Z   \n",
       "1  COP, APA, and AAPL made it to the Zacks Rank #...  2022-02-10T12:36:00Z   \n",
       "2  We have narrowed our search to five Nasdaq Com...  2022-02-16T12:19:00Z   \n",
       "3  AAPL, TOL, and PFE made it to the Zacks Rank #...  2022-02-07T18:41:00Z   \n",
       "4  We have narrowed our search to five U.S. corpo...  2022-02-14T11:38:00Z   \n",
       "\n",
       "   compound  positive  negative  neutral  \n",
       "0    0.0000     0.000       0.0    1.000  \n",
       "1    0.3818     0.120       0.0    0.880  \n",
       "2    0.3400     0.088       0.0    0.912  \n",
       "3    0.3818     0.120       0.0    0.880  \n",
       "4    0.5106     0.121       0.0    0.879  "
      ]
     },
     "execution_count": 5,
     "metadata": {},
     "output_type": "execute_result"
    }
   ],
   "source": [
    "aapl_sentiments = []\n",
    "\n",
    "for article in aapl_news['articles']:\n",
    "    try:\n",
    "        text = article[\"description\"]\n",
    "        date = article[\"publishedAt\"]\n",
    "        sentiment = analyzer.polarity_scores(text)\n",
    "        compound = sentiment[\"compound\"]\n",
    "        pos = sentiment[\"pos\"]\n",
    "        neu = sentiment[\"neu\"]\n",
    "        neg = sentiment[\"neg\"]\n",
    "        \n",
    "        aapl_sentiments.append({\n",
    "            \"text\": text,\n",
    "            \"date\": date,\n",
    "            \"compound\": compound,\n",
    "            \"positive\": pos,\n",
    "            \"negative\": neg,\n",
    "            \"neutral\": neu\n",
    "            \n",
    "        })\n",
    "    except AttributeError:\n",
    "        pass\n",
    "# Create DataFrame\n",
    "aapl_sentiments_df = pd.DataFrame(aapl_sentiments)\n",
    "\n",
    "#Reorder DataFrame columns\n",
    "cols = [\"date\", \"text\", \"compound\", \"positive\", \"negative\", \"neutral\"]\n",
    "btc_sentiments_df = aapl_sentiments_df[cols]\n",
    "\n",
    "aapl_sentiments_df.head()"
   ]
  },
  {
   "cell_type": "code",
   "execution_count": null,
   "metadata": {},
   "outputs": [],
   "source": [
    "aapl_sentiments = []\n",
    "\n",
    "for article in aapl_news['articles']:\n",
    "    try:\n",
    "        text = article[\"description\"]\n",
    "        date = article[\"publishedAt\"]\n",
    "        sentiment = analyzer.polarity_scores(text)\n",
    "        compound = sentiment[\"compound\"]\n",
    "        pos = sentiment[\"pos\"]\n",
    "        neu = sentiment[\"neu\"]\n",
    "        neg = sentiment[\"neg\"]\n",
    "        \n",
    "        aapl_sentiments.append({\n",
    "            \"text\": text,\n",
    "            \"date\": date,\n",
    "            \"compound\": compound,\n",
    "            \"positive\": pos,\n",
    "            \"negative\": neg,\n",
    "            \"neutral\": neu\n",
    "            \n",
    "        })\n",
    "    except AttributeError:\n",
    "        pass\n",
    "# Create DataFrame\n",
    "aapl_sentiments_df = pd.DataFrame(aapl_sentiments)\n",
    "\n",
    "#Reorder DataFrame columns\n",
    "cols = [\"date\", \"text\", \"compound\", \"positive\", \"negative\", \"neutral\"]\n",
    "btc_sentiments_df = aapl_sentiments_df[cols]\n",
    "\n",
    "aapl_sentiments_df.head()"
   ]
  },
  {
   "cell_type": "code",
   "execution_count": null,
   "metadata": {},
   "outputs": [],
   "source": [
    "aapl_sentiments = []\n",
    "\n",
    "for article in aapl_news['articles']:\n",
    "    try:\n",
    "        text = article[\"description\"]\n",
    "        date = article[\"publishedAt\"]\n",
    "        sentiment = analyzer.polarity_scores(text)\n",
    "        compound = sentiment[\"compound\"]\n",
    "        pos = sentiment[\"pos\"]\n",
    "        neu = sentiment[\"neu\"]\n",
    "        neg = sentiment[\"neg\"]\n",
    "        \n",
    "        aapl_sentiments.append({\n",
    "            \"text\": text,\n",
    "            \"date\": date,\n",
    "            \"compound\": compound,\n",
    "            \"positive\": pos,\n",
    "            \"negative\": neg,\n",
    "            \"neutral\": neu\n",
    "            \n",
    "        })\n",
    "    except AttributeError:\n",
    "        pass\n",
    "# Create DataFrame\n",
    "aapl_sentiments_df = pd.DataFrame(aapl_sentiments)\n",
    "\n",
    "#Reorder DataFrame columns\n",
    "cols = [\"date\", \"text\", \"compound\", \"positive\", \"negative\", \"neutral\"]\n",
    "btc_sentiments_df = aapl_sentiments_df[cols]\n",
    "\n",
    "aapl_sentiments_df.head()"
   ]
  },
  {
   "cell_type": "code",
   "execution_count": null,
   "metadata": {},
   "outputs": [],
   "source": [
    "aapl_sentiments = []\n",
    "\n",
    "for article in aapl_news['articles']:\n",
    "    try:\n",
    "        text = article[\"description\"]\n",
    "        date = article[\"publishedAt\"]\n",
    "        sentiment = analyzer.polarity_scores(text)\n",
    "        compound = sentiment[\"compound\"]\n",
    "        pos = sentiment[\"pos\"]\n",
    "        neu = sentiment[\"neu\"]\n",
    "        neg = sentiment[\"neg\"]\n",
    "        \n",
    "        aapl_sentiments.append({\n",
    "            \"text\": text,\n",
    "            \"date\": date,\n",
    "            \"compound\": compound,\n",
    "            \"positive\": pos,\n",
    "            \"negative\": neg,\n",
    "            \"neutral\": neu\n",
    "            \n",
    "        })\n",
    "    except AttributeError:\n",
    "        pass\n",
    "# Create DataFrame\n",
    "aapl_sentiments_df = pd.DataFrame(aapl_sentiments)\n",
    "\n",
    "#Reorder DataFrame columns\n",
    "cols = [\"date\", \"text\", \"compound\", \"positive\", \"negative\", \"neutral\"]\n",
    "btc_sentiments_df = aapl_sentiments_df[cols]\n",
    "\n",
    "aapl_sentiments_df.head()"
   ]
  },
  {
   "cell_type": "code",
   "execution_count": null,
   "metadata": {},
   "outputs": [],
   "source": [
    "aapl_sentiments = []\n",
    "\n",
    "for article in aapl_news['articles']:\n",
    "    try:\n",
    "        text = article[\"description\"]\n",
    "        date = article[\"publishedAt\"]\n",
    "        sentiment = analyzer.polarity_scores(text)\n",
    "        compound = sentiment[\"compound\"]\n",
    "        pos = sentiment[\"pos\"]\n",
    "        neu = sentiment[\"neu\"]\n",
    "        neg = sentiment[\"neg\"]\n",
    "        \n",
    "        aapl_sentiments.append({\n",
    "            \"text\": text,\n",
    "            \"date\": date,\n",
    "            \"compound\": compound,\n",
    "            \"positive\": pos,\n",
    "            \"negative\": neg,\n",
    "            \"neutral\": neu\n",
    "            \n",
    "        })\n",
    "    except AttributeError:\n",
    "        pass\n",
    "# Create DataFrame\n",
    "aapl_sentiments_df = pd.DataFrame(aapl_sentiments)\n",
    "\n",
    "#Reorder DataFrame columns\n",
    "cols = [\"date\", \"text\", \"compound\", \"positive\", \"negative\", \"neutral\"]\n",
    "btc_sentiments_df = aapl_sentiments_df[cols]\n",
    "\n",
    "aapl_sentiments_df.head()"
   ]
  },
  {
   "cell_type": "code",
   "execution_count": null,
   "metadata": {},
   "outputs": [],
   "source": [
    "aapl_sentiments = []\n",
    "\n",
    "for article in aapl_news['articles']:\n",
    "    try:\n",
    "        text = article[\"description\"]\n",
    "        date = article[\"publishedAt\"]\n",
    "        sentiment = analyzer.polarity_scores(text)\n",
    "        compound = sentiment[\"compound\"]\n",
    "        pos = sentiment[\"pos\"]\n",
    "        neu = sentiment[\"neu\"]\n",
    "        neg = sentiment[\"neg\"]\n",
    "        \n",
    "        aapl_sentiments.append({\n",
    "            \"text\": text,\n",
    "            \"date\": date,\n",
    "            \"compound\": compound,\n",
    "            \"positive\": pos,\n",
    "            \"negative\": neg,\n",
    "            \"neutral\": neu\n",
    "            \n",
    "        })\n",
    "    except AttributeError:\n",
    "        pass\n",
    "# Create DataFrame\n",
    "aapl_sentiments_df = pd.DataFrame(aapl_sentiments)\n",
    "\n",
    "#Reorder DataFrame columns\n",
    "cols = [\"date\", \"text\", \"compound\", \"positive\", \"negative\", \"neutral\"]\n",
    "btc_sentiments_df = aapl_sentiments_df[cols]\n",
    "\n",
    "aapl_sentiments_df.head()"
   ]
  },
  {
   "cell_type": "code",
   "execution_count": null,
   "metadata": {},
   "outputs": [],
   "source": [
    "aapl_sentiments = []\n",
    "\n",
    "for article in aapl_news['articles']:\n",
    "    try:\n",
    "        text = article[\"description\"]\n",
    "        date = article[\"publishedAt\"]\n",
    "        sentiment = analyzer.polarity_scores(text)\n",
    "        compound = sentiment[\"compound\"]\n",
    "        pos = sentiment[\"pos\"]\n",
    "        neu = sentiment[\"neu\"]\n",
    "        neg = sentiment[\"neg\"]\n",
    "        \n",
    "        aapl_sentiments.append({\n",
    "            \"text\": text,\n",
    "            \"date\": date,\n",
    "            \"compound\": compound,\n",
    "            \"positive\": pos,\n",
    "            \"negative\": neg,\n",
    "            \"neutral\": neu\n",
    "            \n",
    "        })\n",
    "    except AttributeError:\n",
    "        pass\n",
    "# Create DataFrame\n",
    "aapl_sentiments_df = pd.DataFrame(aapl_sentiments)\n",
    "\n",
    "#Reorder DataFrame columns\n",
    "cols = [\"date\", \"text\", \"compound\", \"positive\", \"negative\", \"neutral\"]\n",
    "btc_sentiments_df = aapl_sentiments_df[cols]\n",
    "\n",
    "aapl_sentiments_df.head()"
   ]
  },
  {
   "cell_type": "code",
   "execution_count": null,
   "metadata": {},
   "outputs": [],
   "source": [
    "aapl_sentiments = []\n",
    "\n",
    "for article in aapl_news['articles']:\n",
    "    try:\n",
    "        text = article[\"description\"]\n",
    "        date = article[\"publishedAt\"]\n",
    "        sentiment = analyzer.polarity_scores(text)\n",
    "        compound = sentiment[\"compound\"]\n",
    "        pos = sentiment[\"pos\"]\n",
    "        neu = sentiment[\"neu\"]\n",
    "        neg = sentiment[\"neg\"]\n",
    "        \n",
    "        aapl_sentiments.append({\n",
    "            \"text\": text,\n",
    "            \"date\": date,\n",
    "            \"compound\": compound,\n",
    "            \"positive\": pos,\n",
    "            \"negative\": neg,\n",
    "            \"neutral\": neu\n",
    "            \n",
    "        })\n",
    "    except AttributeError:\n",
    "        pass\n",
    "# Create DataFrame\n",
    "aapl_sentiments_df = pd.DataFrame(aapl_sentiments)\n",
    "\n",
    "#Reorder DataFrame columns\n",
    "cols = [\"date\", \"text\", \"compound\", \"positive\", \"negative\", \"neutral\"]\n",
    "btc_sentiments_df = aapl_sentiments_df[cols]\n",
    "\n",
    "aapl_sentiments_df.head()"
   ]
  },
  {
   "cell_type": "code",
   "execution_count": null,
   "metadata": {},
   "outputs": [],
   "source": [
    "aapl_sentiments = []\n",
    "\n",
    "for article in aapl_news['articles']:\n",
    "    try:\n",
    "        text = article[\"description\"]\n",
    "        date = article[\"publishedAt\"]\n",
    "        sentiment = analyzer.polarity_scores(text)\n",
    "        compound = sentiment[\"compound\"]\n",
    "        pos = sentiment[\"pos\"]\n",
    "        neu = sentiment[\"neu\"]\n",
    "        neg = sentiment[\"neg\"]\n",
    "        \n",
    "        aapl_sentiments.append({\n",
    "            \"text\": text,\n",
    "            \"date\": date,\n",
    "            \"compound\": compound,\n",
    "            \"positive\": pos,\n",
    "            \"negative\": neg,\n",
    "            \"neutral\": neu\n",
    "            \n",
    "        })\n",
    "    except AttributeError:\n",
    "        pass\n",
    "# Create DataFrame\n",
    "aapl_sentiments_df = pd.DataFrame(aapl_sentiments)\n",
    "\n",
    "#Reorder DataFrame columns\n",
    "cols = [\"date\", \"text\", \"compound\", \"positive\", \"negative\", \"neutral\"]\n",
    "btc_sentiments_df = aapl_sentiments_df[cols]\n",
    "\n",
    "aapl_sentiments_df.head()"
   ]
  },
  {
   "cell_type": "code",
   "execution_count": null,
   "metadata": {},
   "outputs": [],
   "source": [
    "aapl_sentiments = []\n",
    "\n",
    "for article in aapl_news['articles']:\n",
    "    try:\n",
    "        text = article[\"description\"]\n",
    "        date = article[\"publishedAt\"]\n",
    "        sentiment = analyzer.polarity_scores(text)\n",
    "        compound = sentiment[\"compound\"]\n",
    "        pos = sentiment[\"pos\"]\n",
    "        neu = sentiment[\"neu\"]\n",
    "        neg = sentiment[\"neg\"]\n",
    "        \n",
    "        aapl_sentiments.append({\n",
    "            \"text\": text,\n",
    "            \"date\": date,\n",
    "            \"compound\": compound,\n",
    "            \"positive\": pos,\n",
    "            \"negative\": neg,\n",
    "            \"neutral\": neu\n",
    "            \n",
    "        })\n",
    "    except AttributeError:\n",
    "        pass\n",
    "# Create DataFrame\n",
    "aapl_sentiments_df = pd.DataFrame(aapl_sentiments)\n",
    "\n",
    "#Reorder DataFrame columns\n",
    "cols = [\"date\", \"text\", \"compound\", \"positive\", \"negative\", \"neutral\"]\n",
    "btc_sentiments_df = aapl_sentiments_df[cols]\n",
    "\n",
    "aapl_sentiments_df.head()"
   ]
  },
  {
   "cell_type": "code",
   "execution_count": null,
   "metadata": {},
   "outputs": [],
   "source": [
    "aapl_sentiments = []\n",
    "\n",
    "for article in aapl_news['articles']:\n",
    "    try:\n",
    "        text = article[\"description\"]\n",
    "        date = article[\"publishedAt\"]\n",
    "        sentiment = analyzer.polarity_scores(text)\n",
    "        compound = sentiment[\"compound\"]\n",
    "        pos = sentiment[\"pos\"]\n",
    "        neu = sentiment[\"neu\"]\n",
    "        neg = sentiment[\"neg\"]\n",
    "        \n",
    "        aapl_sentiments.append({\n",
    "            \"text\": text,\n",
    "            \"date\": date,\n",
    "            \"compound\": compound,\n",
    "            \"positive\": pos,\n",
    "            \"negative\": neg,\n",
    "            \"neutral\": neu\n",
    "            \n",
    "        })\n",
    "    except AttributeError:\n",
    "        pass\n",
    "# Create DataFrame\n",
    "aapl_sentiments_df = pd.DataFrame(aapl_sentiments)\n",
    "\n",
    "#Reorder DataFrame columns\n",
    "cols = [\"date\", \"text\", \"compound\", \"positive\", \"negative\", \"neutral\"]\n",
    "btc_sentiments_df = aapl_sentiments_df[cols]\n",
    "\n",
    "aapl_sentiments_df.head()"
   ]
  }
 ],
 "metadata": {
  "interpreter": {
   "hash": "19cfba9a95c97142653d1fedb860c581298bb2aa9332cd1c38bf050f2394da6b"
  },
  "kernelspec": {
   "display_name": "Python 3.8.12 ('base')",
   "language": "python",
   "name": "python3"
  },
  "language_info": {
   "codemirror_mode": {
    "name": "ipython",
    "version": 3
   },
   "file_extension": ".py",
   "mimetype": "text/x-python",
   "name": "python",
   "nbconvert_exporter": "python",
   "pygments_lexer": "ipython3",
   "version": "3.8.12"
  },
  "orig_nbformat": 4
 },
 "nbformat": 4,
 "nbformat_minor": 2
}
