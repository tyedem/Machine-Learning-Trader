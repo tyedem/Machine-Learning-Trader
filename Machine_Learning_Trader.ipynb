{
 "cells": [
  {
   "cell_type": "markdown",
   "metadata": {},
   "source": [
    "# Machine Learning Trading Bot"
   ]
  },
  {
   "cell_type": "code",
   "execution_count": null,
   "metadata": {},
   "outputs": [],
   "source": [
    "# Import libraries\n",
    "import pandas as pd\n",
    "import numpy as np\n",
    "from pathlib import Path\n",
    "import hvplot.pandas\n",
    "import matplotlib.pyplot as plt\n",
    "from sklearn import svm\n",
    "from sklearn.preprocessing import StandardScaler\n",
    "from pandas.tseries.offsets import DateOffset\n",
    "from sklearn.metrics import classification_report"
   ]
  },
  {
   "cell_type": "markdown",
   "metadata": {},
   "source": [
    "# Import CSV file and create pandas DataFrame"
   ]
  },
  {
   "cell_type": "code",
   "execution_count": null,
   "metadata": {},
   "outputs": [],
   "source": [
    "# Import stocks dataset\n",
    "stocks_df = pd.read_csv(\n",
    "    Path('../Resources/[insert_title].csv'),\n",
    "    index_col= 'date',\n",
    "    parse_dates = True,\n",
    "    infer_datetime_format=True\n",
    ")\n",
    "\n",
    "# Review the DataFrame\n",
    "stocks_df.head()"
   ]
  },
  {
   "cell_type": "code",
   "execution_count": null,
   "metadata": {},
   "outputs": [],
   "source": [
    "#Filter the date index and close columns\n",
    "signals_df = stocks_df.loc[:, ['close']]\n",
    "\n",
    "# Use pct_change function to generate returns from close prices\n",
    "signals_df['Actual Returns'] = signals_df['close'].pct_change()\n",
    "\n",
    "#Drop all NaN values from the DataFrame\n",
    "signals_df = signals_df.dropna()\n",
    "\n",
    "#Review the DataFrame\n",
    "display(signals_df.head())\n",
    "display(signals_df.tail())"
   ]
  },
  {
   "cell_type": "markdown",
   "metadata": {},
   "source": [
    "# Create a trading algorithm using technical indicators"
   ]
  },
  {
   "cell_type": "markdown",
   "metadata": {},
   "source": [
    "## Generate Signals - Example using SMA with short and long window"
   ]
  },
  {
   "cell_type": "code",
   "execution_count": null,
   "metadata": {},
   "outputs": [],
   "source": [
    "# Create SMA signals DataFrame\n",
    "sma_signals_df = stocks_df.loc[:, [\"close\"]].copy()\n",
    "\n",
    "# Set the short and long windows\n",
    "short_window = 50\n",
    "long_window = 100\n",
    "\n",
    "# Create a short window SMA and long window SMA\n",
    "sma_signals_df['SMA_Fast'] = signals_df['close'].rolling(window=short_window).mean()\n",
    "sma_signals_df['SMA_Slow'] = signals_df['close'].rolling(window=long_window).mean()\n",
    "\n",
    "sma_signals_df = sma_signals_df.dropna()\n",
    "\n",
    "# Review the DataFrame\n",
    "display(sma_signals_df.head())\n",
    "display(sma_signals_df.tail())"
   ]
  },
  {
   "cell_type": "code",
   "execution_count": null,
   "metadata": {},
   "outputs": [],
   "source": [
    "# Initialize the new Signal column\n",
    "sma_signals_df['Signal'] = 0.0\n",
    "\n",
    "# When Actual Returns are greater than or equal to 0, generate signal to buy stock long\n",
    "sma_signals_df.loc[(signals_df['Actual Returns'] >= 0), 'Signal'] = 1.0\n",
    "\n",
    "# When Actual Returns are less than 0, generate signal to sell stock short\n",
    "sma_signals_df.loc[(signals_df['Actual Returns'] < 0), 'Signal'] = 0.0\n",
    "\n",
    "# Review the DataFrame\n",
    "display(sma_signals_df.head())\n",
    "display(sma_signals_df.tail())"
   ]
  },
  {
   "cell_type": "code",
   "execution_count": null,
   "metadata": {},
   "outputs": [],
   "source": [
    "# Visualize close price for the investment\n",
    "stocks_close = signals_df[[\"close\"]].hvplot(\n",
    "    line_color='lightgray',\n",
    "    ylabel='Price in $',\n",
    "    width=1000,\n",
    "    height=400\n",
    ")\n",
    "\n",
    "# Visualize moving averages\n",
    "moving_avgs = signals_df[[\"SMA_Fast\", \"SMA_Slow\"]].hvplot(\n",
    "    ylabel='Price in $',\n",
    "    width=1000,\n",
    "    height=400\n",
    ")\n",
    "\n",
    "# Overlay plots\n",
    "sma_ema_plot = stocks_close * moving_avgs\n",
    "sma_ema_plot"
   ]
  },
  {
   "cell_type": "markdown",
   "metadata": {},
   "source": [
    "## Example using EMA technical indicators"
   ]
  },
  {
   "cell_type": "code",
   "execution_count": null,
   "metadata": {},
   "outputs": [],
   "source": [
    "# Create EMA signals DataFrame\n",
    "ema_signals_df = stocks_df.loc[:, [\"close\"]].copy()\n",
    "\n",
    "# Set the short window and long windows\n",
    "short_window = 50\n",
    "long_window = 100\n",
    "\n",
    "# Generate the short and long moving averages (50 and 100 days, respectively)\n",
    "ema_signals_df[\"EMA_Short\"] = signals_df[\"close\"].ewm(span=short_window).mean()\n",
    "ema_signals_df[\"EMA_Long\"] = signals_df[\"close\"].ewm(span=long_window).mean()\n",
    "\n",
    "# Review the DataFrame\n",
    "ema_signals_df.head()"
   ]
  },
  {
   "cell_type": "code",
   "execution_count": null,
   "metadata": {},
   "outputs": [],
   "source": [
    "# Set the signal column\n",
    "ema_signals_df['Signal'] = 0\n",
    "\n",
    "# Generate the trading signal 1 or 0\n",
    "# Where 1 is when the EMA50 is greater than (i.e. crosses over) the EMA100\n",
    "# Where 0 is when the EMA 50 is under the EMA100\n",
    "ema_signals_df['Signal'][short_window:] = np.where(\n",
    "    ema_signals_df['EMA50'][short_window:] > ema_signals_df['EMA100'][short_window:], 1.0, 0.0\n",
    ")\n",
    "\n",
    "# Calculate the points in time at which a position should be taken, 1 or 0\n",
    "ema_signals_df['Entry/Exit'] = ema_signals_df['Signal'].diff()\n",
    "\n",
    "# Review DataFrame\n",
    "ema_signals_df.head()"
   ]
  },
  {
   "cell_type": "code",
   "execution_count": null,
   "metadata": {},
   "outputs": [],
   "source": [
    "# Review value counts\n",
    "ema_signals_df['Signal'].value_counts()"
   ]
  },
  {
   "cell_type": "code",
   "execution_count": null,
   "metadata": {},
   "outputs": [],
   "source": [
    "# Visualize entry position relative to close price\n",
    "entry = ema_signals_df[ema_signals_df[\"Entry/Exit\"] == 1.0][\"close\"].hvplot.scatter(\n",
    "    color='purple',\n",
    "    marker='^',\n",
    "    size=200,\n",
    "    legend=False,\n",
    "    ylabel='Price in $',\n",
    "    width=1000,\n",
    "    height=400\n",
    ")\n",
    "\n",
    "# Visualize exit position relative to close price\n",
    "exit = ema_signals_df[ema_signals_df[\"Entry/Exit\"] == 0.0][\"close\"].hvplot.scatter(\n",
    "    color='orange',\n",
    "    marker='v',\n",
    "    size=200,\n",
    "    legend=False,\n",
    "    ylabel='Price in $',\n",
    "    width=1000,\n",
    "    height=400\n",
    ")\n",
    "\n",
    "# Visualize close price for the investment\n",
    "security_close = ema_signals_df[[\"close\"]].hvplot(\n",
    "    line_color='lightgray',\n",
    "    ylabel='Price in $',\n",
    "    width=1000,\n",
    "    height=400\n",
    ")\n",
    "\n",
    "# Visualize moving averages\n",
    "moving_avgs = ema_signals_df[[\"EMA50\", \"EMA100\"]].hvplot(\n",
    "    ylabel='Price in $',\n",
    "    width=1000,\n",
    "    height=400\n",
    ")\n",
    "\n",
    "# Overlay plots\n",
    "entry_exit_plot = security_close * moving_avgs * entry * exit\n",
    "entry_exit_plot\n"
   ]
  }
 ],
 "metadata": {
  "interpreter": {
   "hash": "0bea09c37f0c2733e0c0a4c68d9ae77505d6c16f15dde306c84790fa4d0c9800"
  },
  "kernelspec": {
   "display_name": "Python 3.7.11 ('algotrading')",
   "language": "python",
   "name": "python3"
  },
  "language_info": {
   "name": "python",
   "version": "3.7.11"
  },
  "orig_nbformat": 4
 },
 "nbformat": 4,
 "nbformat_minor": 2
}
